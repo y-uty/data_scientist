{
 "cells": [
  {
   "cell_type": "markdown",
   "metadata": {},
   "source": [
    "# Chapter 9 練習と総合問題解答"
   ]
  },
  {
   "cell_type": "code",
   "execution_count": null,
   "metadata": {},
   "outputs": [],
   "source": [
    "# 途中で使用するため、あらかじめ読み込んでおいてください。\n",
    "# データ加工・処理・分析ライブラリ\n",
    "import numpy as np\n",
    "import numpy.random as random\n",
    "import scipy as sp\n",
    "from pandas import Series,DataFrame\n",
    "import pandas as pd\n",
    "\n",
    "# 可視化ライブラリ\n",
    "import matplotlib.pyplot as plt\n",
    "import matplotlib as mpl\n",
    "import seaborn as sns\n",
    "%matplotlib inline\n",
    "\n",
    "# 機械学習ライブラリ\n",
    "import sklearn\n",
    "\n",
    "# 小数第３位まで表示\n",
    "%precision 3"
   ]
  },
  {
   "cell_type": "markdown",
   "metadata": {},
   "source": [
    "####  <練習問題 9-1>\n",
    "`sklearn.datasets`モジュールの`make_blobs`関数を使い、`random_state=52`（特に数字に意味はありません）にしてデータを生成しグラフ化してみましょう。そこからクラスタリングをしてください。いくつのグループに分けますか。また分けた後は、クラスター番号がわかるように色分けして、グラフ化してください。"
   ]
  },
  {
   "cell_type": "code",
   "execution_count": null,
   "metadata": {},
   "outputs": [],
   "source": [
    "# 解答（1）　グラフ化\n",
    "from sklearn.datasets import make_blobs\n",
    "from sklearn.cluster import KMeans\n",
    "\n",
    "X, y = make_blobs(random_state=52)\n",
    "plt.scatter(X[:,0], X[:,1], color='black')"
   ]
  },
  {
   "cell_type": "code",
   "execution_count": null,
   "metadata": {},
   "outputs": [],
   "source": [
    "# 解答（2）　クラスター分析\n",
    "kmeans = KMeans(init='random', n_clusters=2)\n",
    "kmeans.fit(X)\n",
    "y_pred = kmeans.predict(X)\n",
    "\n",
    "# 順にx座標、y座標、cluster番号のデータを横に結合するためconcatでaxis=1を指定しています。\n",
    "merge_data = pd.concat([pd.DataFrame(X[:,0]), pd.DataFrame(X[:,1]), pd.DataFrame(y_pred)], axis=1)\n",
    "merge_data.columns = ['feature1','feature2','cluster']\n",
    "\n",
    "# クラスタリング結果のグラフ化\n",
    "ax = None\n",
    "colors = ['blue', 'red']\n",
    "for i, data in merge_data.groupby('cluster'):\n",
    "    ax = data.plot.scatter(\n",
    "        x='feature1', y='feature2', \n",
    "        color=colors[i], label=f'cluster{i}', ax=ax\n",
    "    )"
   ]
  },
  {
   "cell_type": "markdown",
   "metadata": {},
   "source": [
    "####  <Let's Try>\n",
    "先ほど扱ったデータ`bank_sub_std`に対して、クラスター数を4にしてk-meansを実行した場合、どのような結果になるでしょうか。<練習問題 12-1>と同様に、クラスター番号を取得した後、それぞれのクラスターについての分析して特徴を読み取りましょう。またクラスター数を8にした場合はどうでしょうか。さらに、`age`、`balance`、`campaign`、`previous`以外の変数を選んだ場合はどうでしょうか。\n",
    "\n",
    "＜解答方針例＞\n",
    "\n",
    "本章で実行した`KMeans`のオプションでn_clustersに4や8を入れて実行しましょう。他の方法としては、本章とほぼ同じです。\n",
    "\n",
    "kmeans = KMeans(init='random', n_clusters=4, random_state=0)\n",
    "\n",
    "`age`、`balance`、`campaign`、`previous`以外の変数として、たとえば、`day`と`duration`をセットするときは、以下のようにして、変数をセットします。\n",
    "\n",
    "bank_sub = bank[['day','duration']]"
   ]
  },
  {
   "cell_type": "markdown",
   "metadata": {},
   "source": [
    "####  <練習問題 9-2>\n",
    "`sklearn.datasets`モジュールの`load_iris`関数を使ってアヤメのデータを読み込み、iris.dataを対象に主成分分析を行ってください。ただし、抽出する主成分の数は2とします。さらに第ニ主成分までのデータと目的変数（`iris.target`）との関係性をグラフ化などし考察してください。"
   ]
  },
  {
   "cell_type": "code",
   "execution_count": null,
   "metadata": {},
   "outputs": [],
   "source": [
    "# 解答 （1）　主成分分析\n",
    "from sklearn.datasets import load_iris\n",
    "from sklearn.preprocessing import StandardScaler\n",
    "from sklearn.decomposition import PCA\n",
    "\n",
    "iris = load_iris()\n",
    "\n",
    "sc = StandardScaler()\n",
    "sc.fit(iris.data)\n",
    "X_std = sc.transform(iris.data)\n",
    "\n",
    "# 主成分分析の実行\n",
    "pca = PCA(n_components=2)\n",
    "pca.fit(X_std)\n",
    "X_pca = pca.transform(X_std)\n",
    "\n",
    "print('主成分分析前のデータ次元：{}'.format(iris.data.shape))\n",
    "print('主成分分析後のデータ次元：{}'.format(X_pca.shape))"
   ]
  },
  {
   "cell_type": "markdown",
   "metadata": {},
   "source": [
    "上記で抽出された第一主成分、第二主成分に目的変数を結合しグラフ化してみます。$x$軸を第一主成分、$y$軸を第二主成分、目的変数は、「0を`setosa`」「1を`versicolor`」「2を`virginica`」とします。第一主成分の大小によって、目的変数をかなり識別できそうだとわかります。"
   ]
  },
  {
   "cell_type": "code",
   "execution_count": null,
   "metadata": {},
   "outputs": [],
   "source": [
    "# 解答（2）　グラフ化\n",
    "merge_data = pd.concat([pd.DataFrame(X_pca[:,0]), pd.DataFrame(X_pca[:,1]), pd.DataFrame(iris.target)], axis=1)\n",
    "merge_data.columns = ['pc1','pc2', 'target']\n",
    "\n",
    "# クラスタリング結果のグラフ化\n",
    "ax = None\n",
    "colors = ['blue', 'red', 'green']\n",
    "for i, data in merge_data.groupby('target'):\n",
    "    ax = data.plot.scatter(\n",
    "        x='pc1', y='pc2',\n",
    "        color=colors[i], label=f'target-{i}', ax=ax\n",
    "    )"
   ]
  },
  {
   "cell_type": "markdown",
   "metadata": {},
   "source": [
    "なお参考ですが、以下は目的変数とそれぞれの4つの説明変数との関係を示した図です。以下より`setosa`を見分けるだけでしたら、他の変数（`petal`、`length`など）でも閾値を決めて見分けることができそうです。第一主成分がどの元変数と相関が高いかなど追加で調査してみましょう。"
   ]
  },
  {
   "cell_type": "code",
   "execution_count": null,
   "metadata": {},
   "outputs": [],
   "source": [
    "# 参考　目的変数とそれぞれの4つの説明変数との関係を示す\n",
    "fig, axes = plt.subplots(2,2,figsize=(20,7))\n",
    "\n",
    "iris_0 = iris.data[iris.target==0]\n",
    "iris_1 = iris.data[iris.target==1]\n",
    "iris_2 = iris.data[iris.target==2]\n",
    "\n",
    "ax = axes.ravel()\n",
    "for i in range(4):\n",
    "    _,bins = np.histogram(iris.data[:,i],bins=50)\n",
    "    ax[i].hist(iris_0[:,i],bins=bins,alpha=.5)\n",
    "    ax[i].hist(iris_1[:,i],bins=bins,alpha=.5)\n",
    "    ax[i].hist(iris_2[:,i],bins=bins,alpha=.5)\n",
    "    ax[i].set_title(iris.feature_names[i])\n",
    "    ax[i].set_yticks(())\n",
    "ax[0].set_ylabel('Count')\n",
    "ax[0].legend(['setosa','versicolor','virginica'], loc='best')\n",
    "fig.tight_layout()"
   ]
  },
  {
   "cell_type": "markdown",
   "metadata": {},
   "source": [
    "####  <Let's Try>\n",
    "\n",
    "9-4「マーケットバスケット分析とアソシエーションルール」で用いた購買履歴データを使って、任意の商品の組み合わせについて、支持度、確信度、リフト値を算出してみましょう。\n",
    "\n",
    "＜解答方針例＞\n",
    "\n",
    "たとえば、85123Aと47566を組み合わせる場合は、本章と同様に以下のようなフィルターをかけて、計算していきます。支持度、確信度、リフト値については同様の計算方法で算出できます。\n",
    "\n",
    "\n",
    "trans_a = set(trans[trans['StockCode']=='85123A'].InvoiceNo)\n",
    "\n",
    "trans_b = set(trans[trans['StockCode']=='47566'].InvoiceNo)"
   ]
  },
  {
   "cell_type": "markdown",
   "metadata": {},
   "source": [
    "## 9.5 総合問題"
   ]
  },
  {
   "cell_type": "markdown",
   "metadata": {},
   "source": [
    "### ■ 総合問題9-1 アソシエーションルール\n",
    "9.4「マーケットバスケット分析とアソシエーションルール」で用いた購買履歴データ（Online Retail.xlsx）を使って、どの商品とどの商品の組み合わせの支持度が一番高いか、その組み合わせを求めてください　ただし、レコード数が1,000より多い商品（`StockCode`）を対象に計算してください。\n",
    "\n",
    "（ヒント：商品の組み合わせを抽出するときは、`itertools`モジュールが便利です。）"
   ]
  },
  {
   "cell_type": "code",
   "execution_count": null,
   "metadata": {},
   "outputs": [],
   "source": [
    "# 購買履歴の元データ（同じディレクトリにいるとします）\n",
    "trans = pd.read_excel('Online Retail.xlsx', sheet_name='Online Retail')\n",
    "trans.head()"
   ]
  },
  {
   "cell_type": "code",
   "execution_count": null,
   "metadata": {},
   "outputs": [],
   "source": [
    "# 集計対象とするものだけに絞り込む\n",
    "trans['cancel_flg'] = trans.InvoiceNo.map(lambda x:str(x)[0])\n",
    "trans = trans[(trans.cancel_flg == '5') & (trans.CustomerID.notnull())]"
   ]
  },
  {
   "cell_type": "markdown",
   "metadata": {},
   "source": [
    "任意の2つの`StockCode`の組み合わせごとの支持度を計算するには、`itertools`を使います。これは組み合わせを取り出したい場合などに便利なモジュールです。"
   ]
  },
  {
   "cell_type": "code",
   "execution_count": null,
   "metadata": {},
   "outputs": [],
   "source": [
    "# 解答\n",
    "import itertools\n",
    "\n",
    "# レコードが1000より大きいStockCodeの抽出\n",
    "indexer = trans.StockCode.value_counts() > 1000\n",
    "Items = trans.StockCode.value_counts()[indexer.index[indexer]].index\n",
    "\n",
    "# 集計対象レコードに含まれるInvoiceNoの数を取得（支持度の分母）\n",
    "trans_all = set(trans.InvoiceNo)\n",
    "\n",
    "# 対象Itemsに含まれるStockCodeの2つの任意の組み合わせごとに支持度を計算\n",
    "results={}\n",
    "for element in itertools.combinations(Items, 2):\n",
    "    trans_0 = set(trans[trans['StockCode']==element[0]].InvoiceNo)\n",
    "    trans_1 = set(trans[trans['StockCode']==element[1]].InvoiceNo)\n",
    "    trans_both = trans_0&trans_1\n",
    "    \n",
    "    support = len(trans_both) / len(trans_all)\n",
    "    results[element] = support\n",
    "\n",
    "maxKey =  max([(v,k) for k,v in results.items()])[1]\n",
    "print('支持度最大のStockCodeの組み合わせ：{}'.format(maxKey))\n",
    "print('支持度の最大値：{:.4f}'.format(results[maxKey]))"
   ]
  },
  {
   "cell_type": "markdown",
   "metadata": {},
   "source": [
    "上記より、支持度の最も高い`StockCode`の組み合わせが20725と22383であること、その時の支持度が2.8%であることが確認できました。"
   ]
  }
 ],
 "metadata": {
  "anaconda-cloud": {},
  "kernelspec": {
   "display_name": "Python 3",
   "language": "python",
   "name": "python3"
  },
  "language_info": {
   "codemirror_mode": {
    "name": "ipython",
    "version": 3
   },
   "file_extension": ".py",
   "mimetype": "text/x-python",
   "name": "python",
   "nbconvert_exporter": "python",
   "pygments_lexer": "ipython3",
   "version": "3.7.0"
  }
 },
 "nbformat": 4,
 "nbformat_minor": 1
}
