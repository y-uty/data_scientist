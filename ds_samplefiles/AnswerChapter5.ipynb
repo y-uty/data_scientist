{
 "cells": [
  {
   "cell_type": "markdown",
   "metadata": {},
   "source": [
    "# Chapter 5 練習と総合問題解答"
   ]
  },
  {
   "cell_type": "code",
   "execution_count": null,
   "metadata": {},
   "outputs": [],
   "source": [
    "# 以下のライブラリを使うので、あらかじめ読み込んでおいてください\n",
    "import numpy as np\n",
    "import numpy.random as random\n",
    "import scipy as sp\n",
    "from pandas import Series,DataFrame\n",
    "import pandas as pd\n",
    "\n",
    "# 可視化ライブラリ\n",
    "import matplotlib.pyplot as plt\n",
    "import matplotlib as mpl\n",
    "import seaborn as sns\n",
    "%matplotlib inline\n",
    "\n",
    "# 小数第３まで表示\n",
    "%precision 3"
   ]
  },
  {
   "cell_type": "markdown",
   "metadata": {},
   "source": [
    "#### <練習問題 5-1>\n",
    "\n",
    "以下に示す`sample_names`と`data`という2つの配列があるとします。ブールインデックス参照をつかって、`data`から、`sample_names`の`b`に該当するデータを抽出してください。"
   ]
  },
  {
   "cell_type": "code",
   "execution_count": null,
   "metadata": {},
   "outputs": [],
   "source": [
    "# データの準備\n",
    "sample_names = np.array(['a','b','c','d','a'])\n",
    "random.seed(0)\n",
    "data = random.randn(5,5)\n",
    "\n",
    "print(sample_names)\n",
    "print(data)"
   ]
  },
  {
   "cell_type": "code",
   "execution_count": null,
   "metadata": {},
   "outputs": [],
   "source": [
    "# 解答\n",
    "data[sample_names == 'b']"
   ]
  },
  {
   "cell_type": "markdown",
   "metadata": {},
   "source": [
    "#### <練習問題 5-2>\n",
    "\n",
    "<練習問題 5-1>で使ったデータ`sample_names`と`data`を使って、`data`から、`sample_names`の`c`以外に該当するデータを抽出してください。\n"
   ]
  },
  {
   "cell_type": "code",
   "execution_count": null,
   "metadata": {},
   "outputs": [],
   "source": [
    "# 解答\n",
    "data[sample_names != 'c']"
   ]
  },
  {
   "cell_type": "markdown",
   "metadata": {},
   "source": [
    "#### <練習問題 5-3>\n",
    "\n",
    "次の`x_array`、`y_array`があるとき、Numpyの`where`を用いて条件制御し、3番目と4番目は`x_array`から、1番目、2番目、5番目は`y_array`から、それぞれ値を取り出したデータを生成してください。"
   ]
  },
  {
   "cell_type": "code",
   "execution_count": null,
   "metadata": {},
   "outputs": [],
   "source": [
    "x_array= np.array([1,2,3,4,5])\n",
    "y_array= np.array([6,7,8,9,10])"
   ]
  },
  {
   "cell_type": "code",
   "execution_count": null,
   "metadata": {},
   "outputs": [],
   "source": [
    "# 解答\n",
    "cond_data = np.array([False,False,True,True,False])\n",
    "# 条件制御実施\n",
    "print(np.where(cond_data,x_array,y_array))"
   ]
  },
  {
   "cell_type": "markdown",
   "metadata": {},
   "source": [
    "#### <練習問題 5-4>\n",
    "\n",
    "以下のデータに対して、すべての要素の平方根を計算した行列を表示してください。"
   ]
  },
  {
   "cell_type": "code",
   "execution_count": null,
   "metadata": {},
   "outputs": [],
   "source": [
    "sample_multi_array_data2 = np.arange(16).reshape(4,4)\n",
    "sample_multi_array_data2 "
   ]
  },
  {
   "cell_type": "code",
   "execution_count": null,
   "metadata": {},
   "outputs": [],
   "source": [
    "# 解答\n",
    "np.sqrt(sample_multi_array_data2)"
   ]
  },
  {
   "cell_type": "markdown",
   "metadata": {},
   "source": [
    "#### <練習問題 5-5>\n",
    "\n",
    "<練習問題 5-4>のデータ`sample_multi_array_data2`の最大値、最小値、合計値、平均値を求めてください。"
   ]
  },
  {
   "cell_type": "code",
   "execution_count": null,
   "metadata": {},
   "outputs": [],
   "source": [
    "# 解答\n",
    "print('最大値:',sample_multi_array_data2.max())\n",
    "print('最小値:',sample_multi_array_data2.min())\n",
    "print('合計値:',sample_multi_array_data2.sum())\n",
    "print('平均値:',sample_multi_array_data2.mean())"
   ]
  },
  {
   "cell_type": "markdown",
   "metadata": {},
   "source": [
    "#### <練習問題 5-6>\n",
    "\n",
    "<練習問題 5-4>のデータ`sample_multi_array_data2`の対角成分の和を求めてください。"
   ]
  },
  {
   "cell_type": "code",
   "execution_count": null,
   "metadata": {},
   "outputs": [],
   "source": [
    "# 解答\n",
    "print('対角成分の和:',np.trace(sample_multi_array_data2))"
   ]
  },
  {
   "cell_type": "markdown",
   "metadata": {},
   "source": [
    "#### <練習問題 5-7>\n",
    "\n",
    "次の2つの配列に対して、縦に結合してみましょう。"
   ]
  },
  {
   "cell_type": "code",
   "execution_count": null,
   "metadata": {},
   "outputs": [],
   "source": [
    "# データの準備\n",
    "sample_array1 = np.arange(12).reshape(3,4)\n",
    "sample_array2 = np.arange(12).reshape(3,4)"
   ]
  },
  {
   "cell_type": "code",
   "execution_count": null,
   "metadata": {},
   "outputs": [],
   "source": [
    "# 解答\n",
    "np.concatenate([sample_array1,sample_array2])"
   ]
  },
  {
   "cell_type": "markdown",
   "metadata": {},
   "source": [
    "#### <練習問題 5-8>\n",
    "\n",
    "<練習問題 5-7>の2つの配列に対して、横に結合してみましょう。"
   ]
  },
  {
   "cell_type": "code",
   "execution_count": null,
   "metadata": {},
   "outputs": [],
   "source": [
    "# 解答\n",
    "np.concatenate([sample_array1,sample_array2],axis=1)"
   ]
  },
  {
   "cell_type": "markdown",
   "metadata": {},
   "source": [
    "#### <練習問題 5-9>\n",
    "\n",
    "Pythonにおけるリストの各要素に3を加えるためにはどうすればよいでしょうか。numpyのブロードキャスト機能を使ってください。"
   ]
  },
  {
   "cell_type": "code",
   "execution_count": null,
   "metadata": {},
   "outputs": [],
   "source": [
    "sample_list = [1,2,3,4,5]"
   ]
  },
  {
   "cell_type": "code",
   "execution_count": null,
   "metadata": {},
   "outputs": [],
   "source": [
    "# 解答\n",
    "np.array(sample_list)+3"
   ]
  },
  {
   "cell_type": "markdown",
   "metadata": {},
   "source": [
    "#### <練習問題 5-10>\n",
    "\n",
    "以下のデータに対して、線形補間の計算をして、グラフを描いてください。"
   ]
  },
  {
   "cell_type": "code",
   "execution_count": null,
   "metadata": {},
   "outputs": [],
   "source": [
    "x = np.linspace(0, 10, num=11, endpoint=True)\n",
    "y = np.sin(x**2/5.0)\n",
    "plt.plot(x,y,'o')\n",
    "plt.grid(True)"
   ]
  },
  {
   "cell_type": "code",
   "execution_count": null,
   "metadata": {},
   "outputs": [],
   "source": [
    "# 解答\n",
    "from scipy import interpolate\n",
    "\n",
    "# 線形補間\n",
    "f = interpolate.interp1d(x, y,'linear')\n",
    "plt.plot(x,f(x),'-')\n",
    "plt.grid(True)"
   ]
  },
  {
   "cell_type": "markdown",
   "metadata": {},
   "source": [
    "#### <練習問題 5-11>\n",
    "\n",
    "2次元のスプライン補間（点と点の間を2次の多項式で補間する方法）を使って<練習問題 5-10>のグラフに書き込んでください（2次元のスプライン補間はパラメータを`quadratic`とします）。"
   ]
  },
  {
   "cell_type": "code",
   "execution_count": null,
   "metadata": {},
   "outputs": [],
   "source": [
    "# スプライン2次補間も加えて、まとめてみる、\n",
    "f2 = interpolate.interp1d(x, y,'quadratic')\n",
    "\n",
    "#曲線を出すために、xの値を細かくする。\n",
    "xnew = np.linspace(0, 10, num=30, endpoint=True)\n",
    "\n",
    "# グラフ化\n",
    "plt.plot(x, y, 'o', xnew, f(xnew), '-', xnew, f2(xnew), '--')\n",
    "\n",
    "# 凡例\n",
    "plt.legend(['data', 'linear', 'quadratic'], loc='best')\n",
    "plt.grid(True)"
   ]
  },
  {
   "cell_type": "markdown",
   "metadata": {},
   "source": [
    "#### <練習問題 5-12>\n",
    "\n",
    "3次元のスプライン補間も加えてみましょう。"
   ]
  },
  {
   "cell_type": "code",
   "execution_count": null,
   "metadata": {},
   "outputs": [],
   "source": [
    "# 解答\n",
    "# スプライン2,3次補間も加えて、まとめてみる、\n",
    "f2 = interpolate.interp1d(x, y,'quadratic')\n",
    "f3 = interpolate.interp1d(x, y,'cubic')\n",
    "\n",
    "#曲線を出すために、xの値を細かくする。\n",
    "xnew = np.linspace(0, 10, num=30, endpoint=True)\n",
    "\n",
    "# グラフ化\n",
    "plt.plot(x, y, 'o', xnew, f(xnew), '-', xnew, f2(xnew), '--', xnew, f3(xnew), '--')\n",
    "\n",
    "# 凡例\n",
    "plt.legend(['data', 'linear','quadratic','cubic'], loc='best')\n",
    "plt.grid(True)"
   ]
  },
  {
   "cell_type": "markdown",
   "metadata": {},
   "source": [
    "#### <練習問題 5-13>\n",
    "以下の行列に対して、特異値分解をしてください。"
   ]
  },
  {
   "cell_type": "code",
   "execution_count": null,
   "metadata": {},
   "outputs": [],
   "source": [
    "B = np.array([[1,2,3],[4,5,6],[7,8,9],[10,11,12]])\n",
    "B"
   ]
  },
  {
   "cell_type": "code",
   "execution_count": null,
   "metadata": {},
   "outputs": [],
   "source": [
    "# 解答\n",
    "# 特異値分解の関数linalg.svd\n",
    "U, s, Vs = sp.linalg.svd(B)\n",
    "m, n = B.shape\n",
    "\n",
    "S = sp.linalg.diagsvd(s,m,n)\n",
    "\n",
    "print('U.S.V* = \\n',U@S@Vs)"
   ]
  },
  {
   "cell_type": "markdown",
   "metadata": {},
   "source": [
    "#### <練習問題 5-14>\n",
    "以下の行列に対して、LU分解をして、$Ax=b$の方程式を解いてください。"
   ]
  },
  {
   "cell_type": "code",
   "execution_count": null,
   "metadata": {
    "scrolled": true
   },
   "outputs": [],
   "source": [
    "#データの準備\n",
    "A = np.identity(3)\n",
    "print(A)\n",
    "A[0,:] = 1\n",
    "A[:,0] = 1\n",
    "A[0,0] = 3\n",
    "b = np.ones(3)\n",
    "print(A)\n",
    "print(b)"
   ]
  },
  {
   "cell_type": "code",
   "execution_count": null,
   "metadata": {},
   "outputs": [],
   "source": [
    "# 解答\n",
    "# 正方行列をLU分解する\n",
    "(LU,piv) = sp.linalg.lu_factor(A)\n",
    "\n",
    "L = np.identity(3) + np.tril(LU,-1)\n",
    "U = np.triu(LU)\n",
    "P = np.identity(3)[piv]\n",
    "\n",
    "# 解を求める\n",
    "sp.linalg.lu_solve((LU,piv),b)"
   ]
  },
  {
   "cell_type": "code",
   "execution_count": null,
   "metadata": {},
   "outputs": [],
   "source": [
    "# 確認\n",
    "np.dot(A,sp.linalg.lu_solve((LU,piv),b))"
   ]
  },
  {
   "cell_type": "markdown",
   "metadata": {},
   "source": [
    "#### <練習問題 5-15>\n",
    "以下の積分を求めてみましょう。"
   ]
  },
  {
   "cell_type": "markdown",
   "metadata": {},
   "source": [
    "\\begin{eqnarray}\n",
    "  \\int_0^2 (x+1)^2 dx\n",
    "\\end{eqnarray}"
   ]
  },
  {
   "cell_type": "code",
   "execution_count": null,
   "metadata": {},
   "outputs": [],
   "source": [
    "# 解答\n",
    "from scipy import integrate\n",
    "\n",
    "def calc1(x):\n",
    "    return (x+1)**2\n",
    "\n",
    "# 計算結果と推定誤差\n",
    "integrate.quad(calc1, 0, 2)"
   ]
  },
  {
   "cell_type": "markdown",
   "metadata": {},
   "source": [
    "#### <練習問題 5-16>\n",
    "cos関数の範囲$(0,\\pi)$の積分を求めてみましょう。"
   ]
  },
  {
   "cell_type": "code",
   "execution_count": null,
   "metadata": {},
   "outputs": [],
   "source": [
    "# 解答\n",
    "import math\n",
    "from numpy import cos\n",
    "\n",
    "integrate.quad(cos, 0, math.pi/1)"
   ]
  },
  {
   "cell_type": "markdown",
   "metadata": {},
   "source": [
    "#### <練習問題 5-17>\n",
    "Sicpyを用いて、以下の関数が0となる解を求めましょう。"
   ]
  },
  {
   "cell_type": "markdown",
   "metadata": {},
   "source": [
    "\\begin{eqnarray*}\n",
    "\\ f(x) = 5x -10\n",
    "\\end{eqnarray*}"
   ]
  },
  {
   "cell_type": "code",
   "execution_count": null,
   "metadata": {},
   "outputs": [],
   "source": [
    "# 解答\n",
    "def f(x):\n",
    "    y =  5*x - 10\n",
    "    return y"
   ]
  },
  {
   "cell_type": "code",
   "execution_count": null,
   "metadata": {},
   "outputs": [],
   "source": [
    "# 解答\n",
    "x = np.linspace(0,4)\n",
    "plt.plot(x,f(x))\n",
    "plt.plot(x,np.zeros(len(x)))\n",
    "plt.grid(True)"
   ]
  },
  {
   "cell_type": "code",
   "execution_count": null,
   "metadata": {},
   "outputs": [],
   "source": [
    "# 解答\n",
    "from scipy.optimize import fsolve\n",
    "\n",
    "x = fsolve(f,2)\n",
    "print(x)"
   ]
  },
  {
   "cell_type": "markdown",
   "metadata": {},
   "source": [
    "#### <練習問題 5-18>\n",
    "同様に、以下の関数が0となる解を求めましょう。"
   ]
  },
  {
   "cell_type": "markdown",
   "metadata": {},
   "source": [
    "\\begin{eqnarray*}\n",
    "\\ f(x) = x^3 - 2x^2 - 11x +12\n",
    "\\end{eqnarray*}"
   ]
  },
  {
   "cell_type": "code",
   "execution_count": null,
   "metadata": {},
   "outputs": [],
   "source": [
    "# 解答\n",
    "def f2(x):\n",
    "    y =  x**3 - 2 * x**2 - 11 * x + 12\n",
    "    return y"
   ]
  },
  {
   "cell_type": "code",
   "execution_count": null,
   "metadata": {},
   "outputs": [],
   "source": [
    "# 解答\n",
    "x = np.linspace(-5,5)\n",
    "plt.plot(x,f2(x))\n",
    "plt.plot(x,np.zeros(len(x)))\n",
    "plt.grid(True)"
   ]
  },
  {
   "cell_type": "markdown",
   "metadata": {},
   "source": [
    "グラフから解は-3と1と4付近にあることがわかります。"
   ]
  },
  {
   "cell_type": "code",
   "execution_count": null,
   "metadata": {},
   "outputs": [],
   "source": [
    "# 解答\n",
    "from scipy.optimize import fsolve\n",
    "\n",
    "x = fsolve(f2,-3)\n",
    "print(x)"
   ]
  },
  {
   "cell_type": "code",
   "execution_count": null,
   "metadata": {},
   "outputs": [],
   "source": [
    "# 解答\n",
    "# x = 1 付近\n",
    "x = fsolve(f2,1)\n",
    "print(x)"
   ]
  },
  {
   "cell_type": "code",
   "execution_count": null,
   "metadata": {},
   "outputs": [],
   "source": [
    "# 解答\n",
    "# x = 4 付近\n",
    "x = fsolve(f2,4)\n",
    "print(x)"
   ]
  },
  {
   "cell_type": "markdown",
   "metadata": {},
   "source": [
    "## 5.4 総合問題"
   ]
  },
  {
   "cell_type": "markdown",
   "metadata": {},
   "source": [
    "### ■総合問題5-1 コレスキー分解"
   ]
  },
  {
   "cell_type": "markdown",
   "metadata": {},
   "source": [
    "以下の行列に対して、コレスキー分解をして、$Ax=b$の方程式を解いてください。"
   ]
  },
  {
   "cell_type": "code",
   "execution_count": null,
   "metadata": {},
   "outputs": [],
   "source": [
    "A = np.array([[5, 1, 0, 1],\n",
    "              [1, 9, -5, 7],\n",
    "              [0, -5, 8, -3],\n",
    "              [1, 7, -3, 10]])\n",
    "b = np.array([2, 10, 5, 10])"
   ]
  },
  {
   "cell_type": "code",
   "execution_count": null,
   "metadata": {},
   "outputs": [],
   "source": [
    "# 解答\n",
    "L = sp.linalg.cholesky(A)\n",
    "\n",
    "t = sp.linalg.solve(L.T.conj(), b)\n",
    "x = sp.linalg.solve(L, t)\n",
    "\n",
    "print(x)"
   ]
  },
  {
   "cell_type": "code",
   "execution_count": null,
   "metadata": {},
   "outputs": [],
   "source": [
    "# 確認\n",
    "np.dot(A,x)"
   ]
  },
  {
   "cell_type": "markdown",
   "metadata": {},
   "source": [
    "numpyを使っても計算できます。"
   ]
  },
  {
   "cell_type": "code",
   "execution_count": null,
   "metadata": {},
   "outputs": [],
   "source": [
    "# 解答\n",
    "L = np.linalg.cholesky(A)\n",
    "\n",
    "t = np.linalg.solve(L, b)\n",
    "x = np.linalg.solve(L.T.conj(), t)\n",
    "\n",
    "print(x)"
   ]
  },
  {
   "cell_type": "code",
   "execution_count": null,
   "metadata": {},
   "outputs": [],
   "source": [
    "# 確認\n",
    "np.dot(A,x)"
   ]
  },
  {
   "cell_type": "markdown",
   "metadata": {},
   "source": [
    "### ■総合問題5-2 積分"
   ]
  },
  {
   "cell_type": "markdown",
   "metadata": {},
   "source": [
    "$0≤ x ≤ 1$、$0≤y≤1−x$ の三角領域で定義される以下の関数の積分値を求めてみましょう。\n",
    "\\begin{eqnarray}\n",
    "  \\int_0^1 \\int_0^{1-x} 1/(\\sqrt{(x+y)}(1+x+y)^2) dy dx \n",
    "\\end{eqnarray}\n"
   ]
  },
  {
   "cell_type": "code",
   "execution_count": null,
   "metadata": {},
   "outputs": [],
   "source": [
    "from scipy import integrate\n",
    "import math\n",
    "\n",
    "# 解答\n",
    "integrate.dblquad(lambda x, y: 1/(np.sqrt(x+y)*(1+x+y)**2), 0, 1, lambda x: 0, lambda x: 1-x)"
   ]
  },
  {
   "cell_type": "markdown",
   "metadata": {},
   "source": [
    "### ■総合問題5-3 最適化問題"
   ]
  },
  {
   "cell_type": "markdown",
   "metadata": {},
   "source": [
    "以下の最適化問題をSicpyを使って解いてみましょう。"
   ]
  },
  {
   "cell_type": "markdown",
   "metadata": {},
   "source": [
    "\\begin{eqnarray*}\n",
    "\\ min \\ f(x) = x^2+1\n",
    "\\\\  s.t. x \\ge -1\n",
    "\\end{eqnarray*}"
   ]
  },
  {
   "cell_type": "code",
   "execution_count": null,
   "metadata": {},
   "outputs": [],
   "source": [
    "# 解答\n",
    "from scipy.optimize import minimize\n",
    "\n",
    "# 目的関数\n",
    "def func(x):\n",
    "    return x ** 2 + 1\n",
    "\n",
    "# 制約条件式\n",
    "def cons(x):\n",
    "    return (x + 1)\n",
    "\n",
    "cons = (\n",
    "    {'type': 'ineq', 'fun': cons}\n",
    ")\n",
    "x = -10 # 初期値は適当\n",
    "\n",
    "result = minimize(func, x0=x, constraints=cons, method='SLSQP')\n",
    "print(result)"
   ]
  },
  {
   "cell_type": "code",
   "execution_count": null,
   "metadata": {},
   "outputs": [],
   "source": [
    "print('Y:',result.fun)\n",
    "print('X:',result.x)"
   ]
  }
 ],
 "metadata": {
  "anaconda-cloud": {},
  "kernelspec": {
   "display_name": "Python 3",
   "language": "python",
   "name": "python3"
  },
  "language_info": {
   "codemirror_mode": {
    "name": "ipython",
    "version": 3
   },
   "file_extension": ".py",
   "mimetype": "text/x-python",
   "name": "python",
   "nbconvert_exporter": "python",
   "pygments_lexer": "ipython3",
   "version": "3.7.0"
  }
 },
 "nbformat": 4,
 "nbformat_minor": 1
}
