{
 "cells": [
  {
   "cell_type": "markdown",
   "metadata": {},
   "source": [
    "# Chapter 6 練習と総合問題解答"
   ]
  },
  {
   "cell_type": "code",
   "execution_count": null,
   "metadata": {},
   "outputs": [],
   "source": [
    "# 以下のライブラリを使うので、あらかじめ読み込んでおいてください\n",
    "import numpy as np\n",
    "import numpy.random as random\n",
    "import scipy as sp\n",
    "import pandas as pd\n",
    "from pandas import Series,DataFrame\n",
    "\n",
    "# 可視化ライブラリ\n",
    "import matplotlib.pyplot as plt\n",
    "import matplotlib as mpl\n",
    "import seaborn as sns\n",
    "%matplotlib inline\n",
    "\n",
    "# 小数第３位まで表示\n",
    "%precision 3"
   ]
  },
  {
   "cell_type": "markdown",
   "metadata": {},
   "source": [
    "#### <練習問題 6-1>\n",
    "\n",
    "次のデータに対して、`Kyoto`の列だけ抜き出してみましょう。"
   ]
  },
  {
   "cell_type": "code",
   "execution_count": null,
   "metadata": {},
   "outputs": [],
   "source": [
    "hier_data_frame1 = DataFrame(\n",
    "    np.arange(12).reshape((3,4)),\n",
    "    index = [['c','d','d'],[1,2,1]],\n",
    "    columns = [\n",
    "        ['Kyoto','Nagoya','Hokkaido','Kyoto'],\n",
    "        ['Yellow','Yellow','Red','Blue']\n",
    "    ]\n",
    ")\n",
    "\n",
    "hier_data_frame1.index.names = ['key1','key2']\n",
    "hier_data_frame1.columns.names = ['city','color']\n",
    "hier_data_frame1"
   ]
  },
  {
   "cell_type": "code",
   "execution_count": null,
   "metadata": {},
   "outputs": [],
   "source": [
    "# 解答\n",
    "hier_data_frame1['Kyoto']"
   ]
  },
  {
   "cell_type": "markdown",
   "metadata": {},
   "source": [
    "#### <練習問題 6-2>\n",
    "\n",
    "<練習問題 6-1>のデータに対して、`city`をまとめて列同士の平均値を出してください。"
   ]
  },
  {
   "cell_type": "code",
   "execution_count": null,
   "metadata": {},
   "outputs": [],
   "source": [
    "# 解答\n",
    "# city列合計\n",
    "hier_data_frame1.mean(level='city', axis=1)"
   ]
  },
  {
   "cell_type": "markdown",
   "metadata": {},
   "source": [
    "#### <練習問題 6-3>\n",
    "\n",
    "<練習問題 6-1>のデータに対して、`key2`ごとに行の合計値を算出してみましょう。\n"
   ]
  },
  {
   "cell_type": "code",
   "execution_count": null,
   "metadata": {},
   "outputs": [],
   "source": [
    "# 解答\n",
    "# key2行合計\n",
    "hier_data_frame1.sum(level='key2')"
   ]
  },
  {
   "cell_type": "markdown",
   "metadata": {},
   "source": [
    "#### <練習問題 6-4>\n",
    "\n",
    "下記の2つのデータテーブルに対して、`ID`の値が同じもの同士で内部結合してみましょう。"
   ]
  },
  {
   "cell_type": "code",
   "execution_count": null,
   "metadata": {},
   "outputs": [],
   "source": [
    "# データ4の準備\n",
    "data4 = {\n",
    "    'ID':['0','1','2','3','4','6','8','11','12','13'],\n",
    "    'city':['Tokyo','Osaka','Kyoto','Hokkaido','Tokyo','Tokyo','Osaka','Kyoto','Hokkaido','Tokyo'],\n",
    "    'birth_year':[1990,1989,1992,1997,1982,1991,1988,1990,1995,1981],\n",
    "    'name':['Hiroshi','Akiko','Yuki','Satoru','Steeve','Mituru','Aoi','Tarou','Suguru','Mitsuo']\n",
    "}\n",
    "df4 = DataFrame(data4)\n",
    "df4\n",
    "\n",
    "# データ5の準備\n",
    "data5 = {\n",
    "    'ID':['0','1','3','6','8'],\n",
    "    'math':[20,30,50,70,90],\n",
    "    'English':[30,50,50,70,20],\n",
    "    'sex':['M','F','F','M','M'],\n",
    "    'index_num':[0,1,2,3,4]\n",
    "}\n",
    "df5 = DataFrame(data5)\n",
    "df5"
   ]
  },
  {
   "cell_type": "code",
   "execution_count": null,
   "metadata": {},
   "outputs": [],
   "source": [
    "# 解答\n",
    "pd.merge(df4, df5,on='ID')"
   ]
  },
  {
   "cell_type": "markdown",
   "metadata": {},
   "source": [
    "#### <練習問題 6-5>\n",
    "\n",
    "<練習問題 6-4>のデータを使って、`attri_data_frame4`をベースに`attri_data_frame5`のテーブルを外部結合してみましょう。"
   ]
  },
  {
   "cell_type": "code",
   "execution_count": null,
   "metadata": {},
   "outputs": [],
   "source": [
    "# 解答\n",
    "pd.merge(df4, df5, how='outer')"
   ]
  },
  {
   "cell_type": "markdown",
   "metadata": {},
   "source": [
    "#### <練習問題 6-6>\n",
    "<練習問題 6-4>のデータを使って、`attri_data_frame4`に対して、以下のデータを縦結合してみましょう。"
   ]
  },
  {
   "cell_type": "code",
   "execution_count": null,
   "metadata": {},
   "outputs": [],
   "source": [
    "# データの準備\n",
    "data6 = {\n",
    "    'ID':['70','80','90','120','150'],\n",
    "    'city':['Chiba','Kanagawa','Tokyo','Fukuoka','Okinawa'],\n",
    "    'birth_year':[1980,1999,1995,1994,1994],\n",
    "    'name':['Suguru','Kouichi','Satochi','Yukie','Akari']\n",
    "}\n",
    "df6 = DataFrame(data6)"
   ]
  },
  {
   "cell_type": "code",
   "execution_count": null,
   "metadata": {},
   "outputs": [],
   "source": [
    "pd.concat([df4,df6])"
   ]
  },
  {
   "cell_type": "markdown",
   "metadata": {},
   "source": [
    "#### <練習問題 6-7>\n",
    "\n",
    "3章で使用した数学の成績を示すデータである「student-mat.csv」を読み込み、年齢（`age`）を2倍にしたカラムを末尾に追加してみましょう。"
   ]
  },
  {
   "cell_type": "code",
   "execution_count": null,
   "metadata": {},
   "outputs": [],
   "source": [
    "# 解答\n",
    "# データがあるディレクトリに、カレントディレクトリを移動してください\n",
    "import pandas as pd\n",
    "student_data_math = pd.read_csv('student-mat.csv',sep=';')\n",
    "student_data_math['age_d'] = student_data_math['age'].map(lambda x: x*2)\n",
    "student_data_math.head()"
   ]
  },
  {
   "cell_type": "markdown",
   "metadata": {},
   "source": [
    "#### <練習問題 6-8>\n",
    "\n",
    "<練習問題 6-7>と同じデータで、「`absences`」のカラムについて、以下の3つのビンに分けてそれぞれの人数を数えてみましょう。なお、`cut`のデフォルトの挙動は右側が閉区間です。今回は、`cut`に対視して`right=False`のオプションを指定して、右側を開区間としてください。"
   ]
  },
  {
   "cell_type": "code",
   "execution_count": null,
   "metadata": {},
   "outputs": [],
   "source": [
    "#　分割の粒度\n",
    "absences_bins = [0,1,5,100]"
   ]
  },
  {
   "cell_type": "code",
   "execution_count": null,
   "metadata": {},
   "outputs": [],
   "source": [
    "# 解答\n",
    "student_data_math_ab_cut_data = pd.cut(student_data_math.absences,absences_bins,right=False)\n",
    "pd.value_counts(student_data_math_ab_cut_data)"
   ]
  },
  {
   "cell_type": "markdown",
   "metadata": {},
   "source": [
    "#### <練習問題 6-9>\n",
    "\n",
    "<練習問題 6-7>と同じデータで、「`absences`」のカラムについて、`qcut`を用いて3つのビンに分けてみましょう。"
   ]
  },
  {
   "cell_type": "code",
   "execution_count": null,
   "metadata": {},
   "outputs": [],
   "source": [
    "# 解答\n",
    "student_data_math_ab_qcut_data = pd.qcut(student_data_math.absences,3)\n",
    "pd.value_counts(student_data_math_ab_qcut_data)"
   ]
  },
  {
   "cell_type": "markdown",
   "metadata": {},
   "source": [
    "#### <練習問題 6-10>\n",
    "\n",
    "<練習問題 6-7>で使用した「student-mat.csv」を使って、pandasの集計処理をしてみましょう。まずは、学校（`school`）を軸にして、`G1`の平均点をそれぞれ求めてみましょう。"
   ]
  },
  {
   "cell_type": "code",
   "execution_count": null,
   "metadata": {},
   "outputs": [],
   "source": [
    "# 解答\n",
    "student_data_math = pd.read_csv('student-mat.csv',sep=';')\n",
    "student_data_math.groupby(['school'])['G1'].mean()"
   ]
  },
  {
   "cell_type": "markdown",
   "metadata": {},
   "source": [
    "#### <練習問題 6-11>\n",
    "\n",
    "<練習問題 6-7>で使用した「student-mat.csv」を使って、学校（`school`）と性別（`sex`）を軸にして、`G1`、`G2`、`G3`の平均点をそれぞれ求めてみましょう。"
   ]
  },
  {
   "cell_type": "code",
   "execution_count": null,
   "metadata": {},
   "outputs": [],
   "source": [
    "# 解答\n",
    "student_data_math.groupby(['school','sex'])['G1','G2','G3'].mean()"
   ]
  },
  {
   "cell_type": "markdown",
   "metadata": {},
   "source": [
    "なお、<練習問題 6-10>の計算結果と表示が異なるのは、<練習問題 6-10>の解答がSeries型で今回の解答がDataFrame型だからです。"
   ]
  },
  {
   "cell_type": "markdown",
   "metadata": {},
   "source": [
    "#### <練習問題 6-12>\n",
    "\n",
    "<練習問題 6-7>で使用した「student-mat.csv」を使って、学校（`school`）と性別（`sex`）を軸にして、`G1`、`G2`、`G3`の最大値、最小値をまとめて算出してみましょう。"
   ]
  },
  {
   "cell_type": "code",
   "execution_count": null,
   "metadata": {},
   "outputs": [],
   "source": [
    "# 解答\n",
    "functions = ['max','min']\n",
    "student_data_math2 = student_data_math.groupby(['school','sex'])\n",
    "student_data_math2['G1','G2','G3'].agg(functions)"
   ]
  },
  {
   "cell_type": "markdown",
   "metadata": {},
   "source": [
    "#### <練習問題 6-13>\n",
    "\n",
    "以下のデータに対して、1列でもNaNがある場合は削除し、その結果を表示してください。"
   ]
  },
  {
   "cell_type": "code",
   "execution_count": null,
   "metadata": {},
   "outputs": [],
   "source": [
    "# データの準備\n",
    "from numpy import nan as NA\n",
    "\n",
    "df2 = pd.DataFrame(np.random.rand(15,6))\n",
    "\n",
    "# NAにする\n",
    "df2.ix[2,0] = NA\n",
    "df2.ix[5:8,2] = NA\n",
    "df2.ix[7:9,3] = NA\n",
    "df2.ix[10,5] = NA\n",
    "\n",
    "\n",
    "df2"
   ]
  },
  {
   "cell_type": "code",
   "execution_count": null,
   "metadata": {},
   "outputs": [],
   "source": [
    "# 解答\n",
    "df2.dropna()"
   ]
  },
  {
   "cell_type": "markdown",
   "metadata": {},
   "source": [
    "#### <練習問題 6-14>\n",
    "\n",
    "<練習問題 6-13>で準備したデータに対して、`NaN`を0で埋めてください。"
   ]
  },
  {
   "cell_type": "code",
   "execution_count": null,
   "metadata": {},
   "outputs": [],
   "source": [
    "# 解答\n",
    "df2.fillna(0)"
   ]
  },
  {
   "cell_type": "markdown",
   "metadata": {},
   "source": [
    "#### <練習問題 6-15>\n",
    "\n",
    "<練習問題 6-13>で準備したデータに対して、NaNをそれぞれの列の平均値で埋めてください。"
   ]
  },
  {
   "cell_type": "code",
   "execution_count": null,
   "metadata": {
    "scrolled": true
   },
   "outputs": [],
   "source": [
    "# 解答\n",
    "df2.fillna(df2.mean())"
   ]
  },
  {
   "cell_type": "code",
   "execution_count": null,
   "metadata": {},
   "outputs": [],
   "source": [
    "# 確認用\n",
    "df2.mean()"
   ]
  },
  {
   "cell_type": "markdown",
   "metadata": {},
   "source": [
    "#### <練習問題 6-16>\n",
    "\n",
    "下記のようにして読み込んだUSDJPYのデータであるfx_jpusdataを使って、年ごとの平均値の推移データを作成してください。"
   ]
  },
  {
   "cell_type": "code",
   "execution_count": null,
   "metadata": {},
   "outputs": [],
   "source": [
    "import pandas_datareader.data as pdr\n",
    "\n",
    "start_date = '2001/1/2'\n",
    "end_date = '2016/12/30'\n",
    "\n",
    "fx_jpusdata = pdr.DataReader('DEXJPUS','fred',start_date,end_date)"
   ]
  },
  {
   "cell_type": "code",
   "execution_count": null,
   "metadata": {},
   "outputs": [],
   "source": [
    "# 解答\n",
    "fx_jpusdata.resample('Y').mean().head()"
   ]
  },
  {
   "cell_type": "markdown",
   "metadata": {},
   "source": [
    "#### <練習問題 6-17>\n",
    "\n",
    "<練習問題 6-16>で使用したfx_jpusdataを使って、20日間の移動平均データを作成してください。ただし`NaN`は削除してください。なお、レコードとして存在しないデータであれば、特に補填する必要はありません。"
   ]
  },
  {
   "cell_type": "code",
   "execution_count": null,
   "metadata": {},
   "outputs": [],
   "source": [
    "import pandas_datareader.data as pdr\n",
    "\n",
    "start_date = '2001/1/2'\n",
    "end_date = '2016/12/30'\n",
    "\n",
    "fx_jpusdata = pdr.DataReader('DEXJPUS','fred',start_date,end_date)"
   ]
  },
  {
   "cell_type": "code",
   "execution_count": null,
   "metadata": {},
   "outputs": [],
   "source": [
    "# 解答\n",
    "fx_jpusdata_rolling20 = fx_jpusdata.rolling(20).mean().dropna()\n",
    "fx_jpusdata_rolling20.head()"
   ]
  },
  {
   "cell_type": "markdown",
   "metadata": {},
   "source": [
    "## 6.5 総合問題"
   ]
  },
  {
   "cell_type": "markdown",
   "metadata": {},
   "source": [
    "### ■総合問題6-1 データ操作\n",
    "3章で使用した、数学の成績を示すデータである「student-mat.csv」を使って、以下の問いに答えてください。\n",
    "\n",
    "(1) 上記のデータに対して、年齢（`age`）×性別（`sex`）で`G1`の平均点を算出し、縦軸が年齢（`age`）、横軸が性別（`sex`）となるような表（テーブル）を作成しましょう。\n",
    "\n",
    "(2) (1)で表示した結果テーブルについて、NAになっている行（レコード）をすべて削除した結果を表示しましょう。"
   ]
  },
  {
   "cell_type": "code",
   "execution_count": null,
   "metadata": {},
   "outputs": [],
   "source": [
    "# 解答\n",
    "# (1)\n",
    "# 「student-mat.csv」を配置したディレクトリに、カレントディレクトリを移動して、以下を実行してください\n",
    "student_data_math = pd.read_csv('student-mat.csv',sep=';')\n",
    "\n",
    "student_data_math.groupby(['age','sex'])['G1'].mean().unstack()"
   ]
  },
  {
   "cell_type": "code",
   "execution_count": null,
   "metadata": {},
   "outputs": [],
   "source": [
    "# 解答\n",
    "# (2)\n",
    "student_data_math.groupby(['age','sex'])['G1'].mean().unstack().dropna()"
   ]
  }
 ],
 "metadata": {
  "anaconda-cloud": {},
  "kernelspec": {
   "display_name": "Python 3",
   "language": "python",
   "name": "python3"
  },
  "language_info": {
   "codemirror_mode": {
    "name": "ipython",
    "version": 3
   },
   "file_extension": ".py",
   "mimetype": "text/x-python",
   "name": "python",
   "nbconvert_exporter": "python",
   "pygments_lexer": "ipython3",
   "version": "3.7.0"
  }
 },
 "nbformat": 4,
 "nbformat_minor": 1
}
