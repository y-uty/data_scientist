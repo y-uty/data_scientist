{
 "cells": [
  {
   "cell_type": "markdown",
   "metadata": {},
   "source": [
    "# Chapter 11 総合演習問題の解答例"
   ]
  },
  {
   "cell_type": "code",
   "execution_count": null,
   "metadata": {},
   "outputs": [],
   "source": [
    "# 以下は必要なライブラリのため、あらかじめ読み込んでおいてください。\n",
    "import numpy as np\n",
    "import numpy.random as random\n",
    "import scipy as sp\n",
    "from pandas import Series,DataFrame\n",
    "import pandas as pd\n",
    "import time\n",
    "\n",
    "# 可視化ライブラリ\n",
    "import matplotlib.pyplot as plt\n",
    "import matplotlib as mpl\n",
    "import seaborn as sns\n",
    "%matplotlib inline\n",
    "\n",
    "# 機械学習ライブラリ\n",
    "import sklearn\n",
    "\n",
    "# 小数第３位まで表示\n",
    "%precision 3"
   ]
  },
  {
   "cell_type": "markdown",
   "metadata": {},
   "source": [
    "## 11.1 総合演習問題（1）\n",
    "キーワード：教師あり学習、画像認識、複数カテゴリーの分類、混同行列"
   ]
  },
  {
   "cell_type": "markdown",
   "metadata": {},
   "source": [
    " Scikit-learnの`sklearn.datasets`パッケージに入っている手書き数字のデータセットを下記のように読み込み、各数字（0〜9）を予測するモデルを構築しましょう。このデータは、手書きの数字で、0から9までの画像データです。以下の実装では、データを読み込み、サンプルとなる数字の画像データを表示しています。\n",
    " \n",
    "数字のラベル（目的変数）が`digits.target`で、そのデータの特徴量（説明変数）は`digits.data`です。ここで、このデータをテストデータと学習データに分けてモデルを構築し、混同行列の結果を表示させてください。その際、何度実行しても同じように分離されるように`train_test_split`のパラメータで`random_state=0`と設定してください。\n",
    "\n",
    "また、いくつかモデルを作成し、比較してみてください。どのモデルを使いますか。"
   ]
  },
  {
   "cell_type": "code",
   "execution_count": null,
   "metadata": {},
   "outputs": [],
   "source": [
    "# 分析対象データ\n",
    "from sklearn.datasets import load_digits\n",
    "\n",
    "digits = load_digits()\n",
    "\n",
    "# 画像の表示\n",
    "plt.figure(figsize=(20,5))\n",
    "for label, img in zip(digits.target[:10], digits.images[:10]):\n",
    "    plt.subplot(1,10,label+1)\n",
    "    plt.axis('off')\n",
    "    plt.imshow(img,cmap=plt.cm.gray_r,interpolation='nearest')\n",
    "    plt.title('Number:{0}'.format(label))"
   ]
  },
  {
   "cell_type": "markdown",
   "metadata": {},
   "source": [
    "### **解答例**"
   ]
  },
  {
   "cell_type": "code",
   "execution_count": null,
   "metadata": {
    "scrolled": false
   },
   "outputs": [],
   "source": [
    "# 解答\n",
    "# データの分割（学習データとテストデータ分ける）\n",
    "from sklearn.model_selection import train_test_split\n",
    "\n",
    "# 混同行列\n",
    "from sklearn.metrics import confusion_matrix\n",
    "\n",
    "# ロジスティック回帰\n",
    "from sklearn.linear_model import LogisticRegression\n",
    "# SVM\n",
    "from sklearn.svm import LinearSVC\n",
    "# 決定木\n",
    "from sklearn.tree import  DecisionTreeClassifier\n",
    "# k-NN\n",
    "from sklearn.neighbors import  KNeighborsClassifier\n",
    "# ランダムフォレスト\n",
    "from sklearn.ensemble import RandomForestClassifier\n",
    "\n",
    "# 分析対象データ\n",
    "from sklearn.datasets import load_digits\n",
    "digits = load_digits()\n",
    "\n",
    "# 説明変数\n",
    "X = digits.data\n",
    "# 目的変数\n",
    "Y = digits.target\n",
    "\n",
    "# 学習データとテストデータの分割\n",
    "X_train, X_test, y_train, y_test = train_test_split(\n",
    "    X, Y, random_state=0)"
   ]
  },
  {
   "cell_type": "markdown",
   "metadata": {},
   "source": [
    "上記は、必要なモジュールやデータを読み込み、いつもと同じように、学習データとテストデータに分けています。\n",
    "\n",
    "以下では、その学習データとテストデータにおいて、それぞれの手書き数字でいくつあるかカウントしており、大きな偏りはないようです。"
   ]
  },
  {
   "cell_type": "code",
   "execution_count": null,
   "metadata": {},
   "outputs": [],
   "source": [
    "# データがアンバランスに分かれていないか確認\n",
    "# train\n",
    "print('train:',pd.DataFrame(y_train,columns=['label']).groupby('label')['label'].count())\n",
    "\n",
    "# test\n",
    "print('test:',pd.DataFrame(y_test,columns=['label']).groupby('label')['label'].count())"
   ]
  },
  {
   "cell_type": "markdown",
   "metadata": {},
   "source": [
    "それでは、それぞれの手法を用いて、モデル構築を実施し、それぞれの混同行列やスコアを見てみましょう。"
   ]
  },
  {
   "cell_type": "code",
   "execution_count": null,
   "metadata": {},
   "outputs": [],
   "source": [
    "# それぞれのモデルに対して繰り返し実行して確認する\n",
    "for model in [LogisticRegression(),LinearSVC(), \n",
    "              DecisionTreeClassifier(),\n",
    "              KNeighborsClassifier(n_neighbors=3),\n",
    "              RandomForestClassifier()]:\n",
    "    \n",
    "    fit_model = model.fit(X_train,y_train)\n",
    "    pred_y = fit_model.predict(X_test)   \n",
    "    confusion_m = confusion_matrix(y_test,pred_y)\n",
    "    print('confusion_matrix:')\n",
    "    print(confusion_m)\n",
    "    # __class__.__name__は、そのモデルのクラス名\n",
    "    print('train:',fit_model.__class__.__name__ ,fit_model.score(X_train,y_train))\n",
    "    print('test:',fit_model.__class__.__name__ , fit_model.score(X_test,y_test))\n",
    "    print('===============================================================\\n')"
   ]
  },
  {
   "cell_type": "markdown",
   "metadata": {},
   "source": [
    "上記の結果より、テストデータにおけるスコは4つ目のK-NNが一番高くなりました。上記では、いろいろな手法について、特にパラメーターはデフォルトのままでしたが、余裕があればいろいろと調整してみましょう。"
   ]
  },
  {
   "cell_type": "markdown",
   "metadata": {},
   "source": [
    "## 11.2 総合演習問題（2）\n",
    "キーワード：教師あり学習、回帰、複数モデルの比較"
   ]
  },
  {
   "cell_type": "markdown",
   "metadata": {},
   "source": [
    "以下のデータを読み込み、アワビの年齢を予測するモデルを構築してみましょう。目的変数は「`Rings`」になります。 なお、英語ですが参考URL「B-26」に参考情報を挙げてあります。\n",
    "\n",
    "http://archive.ics.uci.edu/ml/machine-learning-databases/abalone/abalone.data　"
   ]
  },
  {
   "cell_type": "markdown",
   "metadata": {},
   "source": [
    "### **解答例**"
   ]
  },
  {
   "cell_type": "markdown",
   "metadata": {},
   "source": [
    "まずは、データを読み込み、どのようなデータがあるるか確認します。"
   ]
  },
  {
   "cell_type": "code",
   "execution_count": null,
   "metadata": {},
   "outputs": [],
   "source": [
    "# データの読み込み\n",
    "abalone_data = pd.read_csv(\n",
    "    'http://archive.ics.uci.edu/ml/machine-learning-databases/abalone/abalone.data',\n",
    "    header=None,\n",
    "    sep=',')\n",
    "\n",
    "# 列にラベルの設定\n",
    "abalone_data.columns=['Sex','Length','Diameter','Height','Whole','Shucked','Viscera','Shell','Rings']\n",
    "\n",
    "# 先頭5行を表示\n",
    "abalone_data.head()"
   ]
  },
  {
   "cell_type": "markdown",
   "metadata": {},
   "source": [
    "以下は探索的にデータを見ています。まず、列同士の組み合わせの散布図を見てみます。対角線上にはヒストグラムが表示されます。\n"
   ]
  },
  {
   "cell_type": "code",
   "execution_count": null,
   "metadata": {
    "scrolled": false
   },
   "outputs": [],
   "source": [
    "sns.pairplot(abalone_data)"
   ]
  },
  {
   "cell_type": "markdown",
   "metadata": {},
   "source": [
    "以下は箱ひげ図です。"
   ]
  },
  {
   "cell_type": "code",
   "execution_count": null,
   "metadata": {
    "scrolled": false
   },
   "outputs": [],
   "source": [
    "# 箱ひげ図として表示する列を指定\n",
    "abalone_data[['Length','Diameter','Height','Whole','Shucked','Viscera','Shell']].boxplot()\n",
    "\n",
    "# グリッドを表示する\n",
    "plt.grid(True)"
   ]
  },
  {
   "cell_type": "markdown",
   "metadata": {},
   "source": [
    "`Whole`の値に広がりがあるのがわかります。"
   ]
  },
  {
   "cell_type": "markdown",
   "metadata": {},
   "source": [
    "基本統計量も確認しましょう。"
   ]
  },
  {
   "cell_type": "code",
   "execution_count": null,
   "metadata": {},
   "outputs": [],
   "source": [
    "abalone_data.describe()"
   ]
  },
  {
   "cell_type": "markdown",
   "metadata": {},
   "source": [
    "`Height`のデータに0もありますが、今回はそのままモデル構築を実施します。"
   ]
  },
  {
   "cell_type": "code",
   "execution_count": null,
   "metadata": {
    "scrolled": false
   },
   "outputs": [],
   "source": [
    "# 解答\n",
    "\n",
    "# 線形回帰モデル\n",
    "from sklearn.linear_model import LinearRegression\n",
    "# 決定木(回帰)\n",
    "from sklearn.tree import  DecisionTreeRegressor\n",
    "# k-NN\n",
    "from sklearn.neighbors import  KNeighborsRegressor\n",
    "# ランダムフォレスト\n",
    "from sklearn.ensemble import RandomForestRegressor\n",
    "\n",
    "from sklearn.model_selection import train_test_split\n",
    "\n",
    "X = abalone_data.iloc[:,1:7]\n",
    "Y = abalone_data['Rings']\n",
    "\n",
    "X_train, X_test, y_train, y_test = train_test_split(\n",
    "    X, Y, random_state=0)\n",
    "\n",
    "# 標準化のためのモジュール\n",
    "from sklearn.preprocessing import StandardScaler\n",
    "\n",
    "# 標準化\n",
    "sc = StandardScaler()\n",
    "sc.fit(X_train)\n",
    "X_train_std = sc.transform(X_train)\n",
    "X_test_std = sc.transform(X_test)\n",
    "\n",
    "for model in [LinearRegression(),\n",
    "              DecisionTreeRegressor(),\n",
    "              KNeighborsRegressor(n_neighbors=5),\n",
    "              RandomForestRegressor()]:\n",
    "    \n",
    "    fit_model = model.fit(X_train_std,y_train)\n",
    "    \n",
    "    print('train:',fit_model.__class__.__name__ ,fit_model.score(X_train_std,y_train))\n",
    "    print('test:',fit_model.__class__.__name__ , fit_model.score(X_test_std,y_test))"
   ]
  },
  {
   "cell_type": "markdown",
   "metadata": {},
   "source": [
    "上記の学習データとテストデータのスコアを見比べてみればわかる通り、モデル（回帰木）によっては、過学習になっている（学習データでスコアが1、テストデータのスコアが0.02）のかよくわかります。\n",
    "次は、参考ですが、k-NNのパラメータ`k`を変更させて検証してみましょう。8章の<練習問題 8-8>でも同じような実装をしましたので、そちらも参考にしてください。"
   ]
  },
  {
   "cell_type": "code",
   "execution_count": null,
   "metadata": {
    "scrolled": true
   },
   "outputs": [],
   "source": [
    "# 解答\n",
    "# k-NN\n",
    "from sklearn.neighbors import  KNeighborsRegressor\n",
    "\n",
    "from sklearn.model_selection import train_test_split\n",
    "\n",
    "X = abalone_data.iloc[:,1:7]\n",
    "Y = abalone_data['Rings']\n",
    "\n",
    "X_train, X_test, y_train, y_test = train_test_split(\n",
    "    X, Y, random_state=0)\n",
    "\n",
    "# 標準化のためのモジュール\n",
    "from sklearn.preprocessing import StandardScaler\n",
    "\n",
    "# 標準化\n",
    "sc = StandardScaler()\n",
    "sc.fit(X_train)\n",
    "X_train_std = sc.transform(X_train)\n",
    "X_test_std = sc.transform(X_test)\n",
    "\n",
    "training_accuracy = []\n",
    "test_accuracy =[]\n",
    "\n",
    "neighbors_settings = range(1,50)\n",
    "\n",
    "for n_neighbors in neighbors_settings:\n",
    "    clf = KNeighborsRegressor(n_neighbors=n_neighbors)\n",
    "    clf.fit(X_train_std,y_train)\n",
    "    \n",
    "    training_accuracy.append(clf.score(X_train_std,y_train))\n",
    "    \n",
    "    test_accuracy.append(clf.score(X_test_std,y_test))\n",
    "    \n",
    "plt.plot(neighbors_settings, training_accuracy,label='training score')\n",
    "plt.plot(neighbors_settings, test_accuracy,label='test score')\n",
    "plt.ylabel('Accuracy')\n",
    "plt.xlabel('n_neighbors')\n",
    "plt.legend()"
   ]
  },
  {
   "cell_type": "markdown",
   "metadata": {},
   "source": [
    "`k`が増えるに従って改善しているようですが、`k=25`付近でスコア0.5ちょっとが限界のようです。"
   ]
  },
  {
   "cell_type": "markdown",
   "metadata": {},
   "source": [
    "## 11.3 総合演習問題（3）\n",
    "キーワード：教師あり学習、分類、マーケティング分析、検証、混同行列、正解率、適合率、再現率、F1値、ROC曲線、AUC"
   ]
  },
  {
   "cell_type": "markdown",
   "metadata": {},
   "source": [
    "9章で扱った、以下の金融機関のデータ（bank-full.csv）を読み込んで、後の問いに答えてください。\n",
    "\n",
    "http://archive.ics.uci.edu/ml/machine-learning-databases/00222/bank.zip"
   ]
  },
  {
   "cell_type": "markdown",
   "metadata": {},
   "source": [
    "1.  数値データ（`age,balance,day,duration,campaign,pdays,previous`）における基本統計量（レコード数、最大値、最小値、標準偏差など）を算出してください。  \n",
    "2.  データの`'job','marital','education','default','housing','loan'`のそれぞれについて、預金を申し込む人、申し込まない人の人数を算出してください。　　\n",
    "3.   `y`（預金を申し込む、申し込まない）を目的変数として、予測モデルを構築してください。モデルは複数（ロジスティック回帰、SVM、決定木、k-NN、ランダムフォレストなど）を試してください。ただし、テスト用にデータはあらかじめ抜いてください（その際、`train_test_split`のパラメータは`random_state=0`で設定してください）。     \n",
    "4.   テスト用のデータを使って、それぞれのモデルの検証をしましょう。各モデルのテストデータにおける正解率、適合率、再現率、F1スコア、混同行列を表示してください。どのモデルを使いますか。  \n",
    "5.   それぞれのモデルのROC曲線を描いて、AUCを算出し、比較できるようにしてください。"
   ]
  },
  {
   "cell_type": "markdown",
   "metadata": {},
   "source": [
    "### **解答例**"
   ]
  },
  {
   "cell_type": "markdown",
   "metadata": {},
   "source": [
    "＜例題１＞以下でWebからデータを取得しています。"
   ]
  },
  {
   "cell_type": "code",
   "execution_count": null,
   "metadata": {},
   "outputs": [],
   "source": [
    "import io\n",
    "import zipfile\n",
    "import requests\n",
    "\n",
    "# データがあるurl の指定\n",
    "zip_file_url = 'http://archive.ics.uci.edu/ml/machine-learning-databases/00222/bank.zip'\n",
    "r = requests.get(zip_file_url, stream=True)\n",
    "z = zipfile.ZipFile(io.BytesIO(r.content))\n",
    "z.extractall()"
   ]
  },
  {
   "cell_type": "markdown",
   "metadata": {},
   "source": [
    "次に、データを読み込み、どんなデータがあるか確認します。"
   ]
  },
  {
   "cell_type": "code",
   "execution_count": null,
   "metadata": {
    "scrolled": true
   },
   "outputs": [],
   "source": [
    "banking_c_data = pd.read_csv('bank-full.csv',sep=';')\n",
    "banking_c_data.head()"
   ]
  },
  {
   "cell_type": "markdown",
   "metadata": {},
   "source": [
    "続いて数値データの統計量を算出します。"
   ]
  },
  {
   "cell_type": "code",
   "execution_count": null,
   "metadata": {},
   "outputs": [],
   "source": [
    "banking_c_data.describe()"
   ]
  },
  {
   "cell_type": "markdown",
   "metadata": {},
   "source": [
    "＜例題２＞ `yes`と`no`でそれぞれの割合を算出してみます。"
   ]
  },
  {
   "cell_type": "code",
   "execution_count": null,
   "metadata": {
    "scrolled": false
   },
   "outputs": [],
   "source": [
    "col_name_list = ['job','marital','education','default','housing','loan']\n",
    "for col_name in col_name_list:\n",
    "    print('---------------- ' + col_name + ' ----------------------')\n",
    "    print(banking_c_data.groupby([col_name,'y'])['y'].count().unstack() / banking_c_data.groupby(['y'])['y'].count()*100)"
   ]
  },
  {
   "cell_type": "markdown",
   "metadata": {},
   "source": [
    "＜例題３＞説明変数を選択し、ダミー変数`banking_c_data_dummy`として変換します。これについては、後述のコラムを参照してください。"
   ]
  },
  {
   "cell_type": "code",
   "execution_count": null,
   "metadata": {
    "scrolled": true
   },
   "outputs": [],
   "source": [
    "banking_c_data_dummy = pd.get_dummies(banking_c_data[['job','marital','education','default','housing','loan']])\n",
    "banking_c_data_dummy.head()"
   ]
  },
  {
   "cell_type": "markdown",
   "metadata": {},
   "source": [
    "目的変数は「`y`」ですが、値として「`yes`」か「`no`」かの文字列をとります。これを数値として扱うため、`yes`のときは「1」、そうでないときは「0」のフラグ変数`flg`を作っておきます。"
   ]
  },
  {
   "cell_type": "code",
   "execution_count": null,
   "metadata": {},
   "outputs": [],
   "source": [
    "# 目的変数：flg立てをする\n",
    "banking_c_data_dummy['flg'] = banking_c_data['y'].map(lambda x: 1 if x =='yes' else 0)"
   ]
  },
  {
   "cell_type": "markdown",
   "metadata": {},
   "source": [
    "以下はモデリングをしています。ここでは説明変数として、「`age`」、「`balance`」、「`campaign`」を選択します。"
   ]
  },
  {
   "cell_type": "code",
   "execution_count": null,
   "metadata": {
    "scrolled": false
   },
   "outputs": [],
   "source": [
    "# 解答\n",
    "# ロジスティック回帰\n",
    "from sklearn.linear_model import LogisticRegression\n",
    "# SVM\n",
    "from sklearn.svm import LinearSVC\n",
    "# 決定木\n",
    "from sklearn.tree import  DecisionTreeClassifier\n",
    "# k-NN\n",
    "from sklearn.neighbors import  KNeighborsClassifier\n",
    "# ランダムフォレスト\n",
    "from sklearn.ensemble import RandomForestClassifier\n",
    "\n",
    "# データの分割（学習データとテストデータ分ける）\n",
    "from sklearn.model_selection import train_test_split\n",
    "\n",
    "# 混同行列、その他の指標\n",
    "from sklearn.metrics import confusion_matrix\n",
    "from sklearn.metrics import precision_score,recall_score,f1_score\n",
    "\n",
    "# 説明変数\n",
    "X = pd.concat([banking_c_data_dummy.drop('flg', axis=1),banking_c_data[['age','balance','campaign']]],axis=1)\n",
    "# 目的変数\n",
    "Y = banking_c_data_dummy['flg']\n",
    "\n",
    "X_train, X_test, y_train, y_test = train_test_split(\n",
    "    X, Y, stratify = Y, random_state=0)\n",
    "\n",
    "for model in [LogisticRegression(),LinearSVC(), \n",
    "              DecisionTreeClassifier(),\n",
    "              KNeighborsClassifier(n_neighbors=5),\n",
    "              RandomForestClassifier()]:\n",
    "    \n",
    "    fit_model = model.fit(X_train,y_train)\n",
    "    pred_y = fit_model.predict(X_test)\n",
    "    confusion_m = confusion_matrix(y_test,pred_y)\n",
    "    \n",
    "    print('train:',fit_model.__class__.__name__ ,fit_model.score(X_train,y_train))\n",
    "    print('test:',fit_model.__class__.__name__ , fit_model.score(X_test,y_test))\n",
    "    print('Confution matrix:\\n{}'.format(confusion_m))\n",
    "    print('適合率:%.3f' % precision_score(y_true=y_test,y_pred=pred_y))\n",
    "    print('再現率:%.3f' % recall_score(y_true=y_test,y_pred=pred_y))\n",
    "    print('F1値:%.3f' % f1_score(y_true=y_test,y_pred=pred_y))"
   ]
  },
  {
   "cell_type": "markdown",
   "metadata": {},
   "source": [
    "上の結果から、決定木、k-NN、ランダムフォレストを選ぶことにします。"
   ]
  },
  {
   "cell_type": "markdown",
   "metadata": {},
   "source": [
    "＜例題4＞決定木、k-NN、ランダムフォレストについてROC曲線とAUCを算出します。"
   ]
  },
  {
   "cell_type": "code",
   "execution_count": null,
   "metadata": {},
   "outputs": [],
   "source": [
    "from sklearn.metrics import roc_curve,roc_auc_score\n",
    "\n",
    "for model in [DecisionTreeClassifier(),KNeighborsClassifier(n_neighbors=5)\n",
    "             ,RandomForestClassifier()]:\n",
    "    \n",
    "    fit_model = model.fit(X_train,y_train)\n",
    "    method = fit_model.__class__.__name__ \n",
    "    fpr,tpr,thresholds = roc_curve(y_test,fit_model.predict_proba(X_test)[:,1])\n",
    "    auc = roc_auc_score(y_test,fit_model.predict_proba(X_test)[:,1])\n",
    "\n",
    "    plt.plot(fpr,tpr,label=method+', AUC:' + str(round(auc,3)))\n",
    "    plt.legend(loc=4)\n",
    "\n",
    "# モデルなし\n",
    "plt.plot([0, 1], [0, 1],color='black', lw= 0.5, linestyle='--')"
   ]
  },
  {
   "cell_type": "markdown",
   "metadata": {},
   "source": [
    "グラフの右下にそれぞれのモデルのAUCが算出されており、ランダムフォレストが一番高いという結果になりました。"
   ]
  },
  {
   "cell_type": "markdown",
   "metadata": {},
   "source": [
    "### コラム：ダミー変数と多重共線性（行列計算の数式等に慣れていない方はスキップしてください）\n"
   ]
  },
  {
   "cell_type": "markdown",
   "metadata": {},
   "source": [
    "上では、ダミー変数化したものをそのまますべて代入し、モデル構築をしました。しかし、これは果たしてよいのでしょうか。11.2「重回帰」で、多重共線性について触れましたが、ダミー変数を扱う場合の注意点を述べます。以下の例を考えて、数式的に見ていきましょう。"
   ]
  },
  {
   "cell_type": "markdown",
   "metadata": {},
   "source": [
    "`k`個の要素から構成されているカテゴリ変数をダミー変数にする際に、`k`個をそのままダミー変数に用いると多重共線性が発生することを以下の具体例を用いて示します。\n",
    "\n",
    "あるスーパーマーケットの1日のアイスクリームの販売個数 $y$ をその日の平均気温 $x_1$、天気 $z$（晴れ、くもり、雨の3要素）を用いて重回帰分析で予測することを考えます。"
   ]
  },
  {
   "cell_type": "markdown",
   "metadata": {},
   "source": [
    "|データNo|$y$(個)|$x_1$(℃)|$z$|\n",
    "|:--:|:--:|:--:|:--:|\n",
    "|1|903|21|くもり|\n",
    "|2|1000|27|晴れ|\n",
    "|3|1112|22|雨|\n",
    "|4|936|19|くもり|\n",
    "|5|1021|23|晴れ|\n",
    "|$\\vdots$|$\\vdots$|$\\vdots$|$\\vdots$|\n",
    "|n|$y_n$|$x_n$|$z_n$|"
   ]
  },
  {
   "cell_type": "markdown",
   "metadata": {},
   "source": [
    "天気$z$を$x_2$を晴れ、$x_3$をくもり、$x_4$を雨として、次のようにダミー変数化します。"
   ]
  },
  {
   "cell_type": "markdown",
   "metadata": {},
   "source": [
    "|データNo|$y$(個)|$x_1$(℃)|$z$|$x_2$|$x_3$|$x_4$|\n",
    "|:--:|:--:|:--:|:--:|:--:|:--:|:--:|\n",
    "|1|903|21|くもり|0|1|0|\n",
    "|2|1000|27|晴れ|1|0|0|\n",
    "|3|1112|22|雨|0|0|1|\n",
    "|4|936|19|くもり|0|1|0|\n",
    "|5|1021|23|晴れ|1|0|0|\n",
    "|$\\vdots$|$\\vdots$|$\\vdots$|$\\vdots$|$\\vdots$|$\\vdots$|$\\vdots$|\n",
    "|n|$y_n$|$x_{1n}$|$z_n$|$x_{2n}$|$x_{3n}$|$x_{4n}$|"
   ]
  },
  {
   "cell_type": "markdown",
   "metadata": {},
   "source": [
    "このとき、ダミー変数の2つの値が分かれば、残ったダミー変数の値も分かるので、説明変数に3つすべてを含める必要はないと考えられます。\n",
    "\n",
    "実際、$x_4 = -x_2 - x_3 +1$という関係が成り立ちます。この関係から、$x_2$、$x_3$、$x_4$すべてを重回帰分析の説明変数に含めると最小二乗推定値が求まらないことを示します。\n",
    "\n",
    "重回帰式$y=b_0+b_1 x_1+b_2 x_2+b_3 x_3+b_4 x_4$を考えます。訓練データを用いて"
   ]
  },
  {
   "cell_type": "markdown",
   "metadata": {},
   "source": [
    "\\begin{eqnarray}\n",
    "\\boldsymbol{y}=\\left( \\begin{array}{c}\n",
    "y_{1} \\\\\n",
    "y_{2} \\\\\n",
    "\\vdots \\\\\n",
    "y_{n}\n",
    "\\end{array} \\right),\\,\\,\\,\n",
    "X=\\left( \\boldsymbol{1},\\boldsymbol{x}_1,\\boldsymbol{x}_2,\\boldsymbol{x}_3,\\boldsymbol{x}_4 \\right)\n",
    "=\\left( \\begin{array}{ccccc}\n",
    "1 & x_{11} & x_{21} & x_{31} & x_{41} \\\\\n",
    "\\vdots & \\vdots & \\vdots & \\vdots & \\vdots \\\\\n",
    "1 & x_{1n} & x_{2n} & x_{3n} & x_{4n}\n",
    "\\end{array} \\right)\n",
    "\\end{eqnarray}"
   ]
  },
  {
   "cell_type": "markdown",
   "metadata": {},
   "source": [
    "とすると、係数$b_0,b_1,\\cdots ,b_4$の最小二乗推定値は"
   ]
  },
  {
   "cell_type": "markdown",
   "metadata": {},
   "source": [
    "\\begin{eqnarray}\n",
    "\\left( \\begin{array}{c}\n",
    "b_{0} \\\\\n",
    "b_{1} \\\\\n",
    "\\vdots \\\\\n",
    "b_{4}\n",
    "\\end{array} \\right)\n",
    "=({}^t\\!X X)^{-1} {}^t\\!X \\boldsymbol{y}\n",
    "\\end{eqnarray}"
   ]
  },
  {
   "cell_type": "markdown",
   "metadata": {},
   "source": [
    "と表されます。しかし、今回 $x_4 = -x_2 - x_3 +1$という関係から、${}^t\\!X X$の行列式が0となり逆行列が存在しないことが次のように示されます。"
   ]
  },
  {
   "cell_type": "markdown",
   "metadata": {},
   "source": [
    "\\begin{eqnarray}\n",
    "|{}^t\\!X X| = \\left|\n",
    "    \\begin{array}{cc}\n",
    "        \\left( \\begin{array}{c}\n",
    "          {}^t\\!\\boldsymbol{1} \\\\\n",
    "          {}^t\\!\\boldsymbol{x}_1 \\\\\n",
    "          {}^t\\!\\boldsymbol{x}_2 \\\\\n",
    "          {}^t\\!\\boldsymbol{x}_3 \\\\\n",
    "          {}^t\\!\\boldsymbol{x}_4 \\\\\n",
    "        \\end{array} \\right)\n",
    "        X\n",
    "    \\end{array}\n",
    "  \\right|\n",
    "  =\n",
    "  \\left|\n",
    "    \\begin{array}{c}\n",
    "        {}^t\\!\\boldsymbol{1} X \\\\\n",
    "        {}^t\\!\\boldsymbol{x}_1 X \\\\\n",
    "        {}^t\\!\\boldsymbol{x}_2 X \\\\\n",
    "        {}^t\\!\\boldsymbol{x}_3 X \\\\\n",
    "        {}^t\\!\\boldsymbol{x}_4 X \\\\\n",
    "    \\end{array}\n",
    "  \\right|\n",
    "  =\n",
    "  \\left|\n",
    "    \\begin{array}{c}\n",
    "        {}^t\\!\\boldsymbol{1} X \\\\\n",
    "        {}^t\\!\\boldsymbol{x}_1 X \\\\\n",
    "        {}^t\\!\\boldsymbol{x}_2 X \\\\\n",
    "        {}^t\\!\\boldsymbol{x}_3 X \\\\\n",
    "        {}^t\\!\\boldsymbol{x}_4 X +  {}^t\\!\\boldsymbol{x}_2 X + {}^t\\!\\boldsymbol{x}_3 X \\\\\n",
    "    \\end{array}\n",
    "  \\right|\n",
    "  =\n",
    "  \\left|\n",
    "    \\begin{array}{c}\n",
    "        {}^t\\!\\boldsymbol{1} X \\\\\n",
    "        {}^t\\!\\boldsymbol{x}_1 X \\\\\n",
    "        {}^t\\!\\boldsymbol{x}_2 X \\\\\n",
    "        {}^t\\!\\boldsymbol{x}_3 X \\\\\n",
    "        {}^t\\!\\boldsymbol{1} X \\\\\n",
    "    \\end{array}\n",
    "  \\right| \n",
    "  =0\n",
    "\\end{eqnarray}"
   ]
  },
  {
   "cell_type": "markdown",
   "metadata": {},
   "source": [
    "ここで、3つ目の等号では4行目に2行目、3行目を加えても行列式は変わらないという性質を用い、4つ目の等号では$x_4 = -x_2 - x_3 +1$という関係を用いました。このように、行列式が0となり、最小二乗推定値は存在しません。よって、最小二乗推定値を求めるためにはダミー変数を1つ抜く（たとえば$x_4$）必要があります。\n",
    "\n",
    "今回は要素が3つから構成されるカテゴリ変数を用いましたが、一般の`n`個の要素から構成されるカテゴリ変数でも`n`個すべてをダミー変数に使用してしまうと同様に行列式が0となることが示せます。\n",
    "\n",
    "重回帰分析等を実施するときには、多重共線性の問題がありますので、説明変数にカテゴリ変数を使う場合は注意しましょう。なお、pandasでダミー変数を作るための`get_dummies`関数には、`drop_first`という最初のダミー変数を取り除くパラメータがありますので、必要に応じて使ってください。\n",
    "\n",
    "上で説明した行列の参考としては、参考文献「A-38」「B-27」があります。\n"
   ]
  },
  {
   "cell_type": "markdown",
   "metadata": {},
   "source": [
    "## 11.4 総合演習問題（4）\n",
    "キーワード：教師あり学習、教師なし学習、ハイブリッドアプローチ"
   ]
  },
  {
   "cell_type": "markdown",
   "metadata": {},
   "source": [
    "9章で扱ったload_breast_cancerを使って、さらに予測精度（正解率）を上げるモデルを作成してみましょう。15.3と同じく、テスト用にデータはあらかじめ抜いて検証してください。その際、`train_test_split`のパラメータを`random_state=0`に設定してください。      "
   ]
  },
  {
   "cell_type": "code",
   "execution_count": null,
   "metadata": {},
   "outputs": [],
   "source": [
    "# 前回の解答\n",
    "# 標準化のためのモジュール\n",
    "from sklearn.preprocessing import StandardScaler\n",
    "\n",
    "# ロジスティック回帰\n",
    "from sklearn.linear_model import LogisticRegression\n",
    "from sklearn.metrics import confusion_matrix\n",
    "\n",
    "from sklearn.model_selection import train_test_split\n",
    "from sklearn.datasets import load_breast_cancer\n",
    "\n",
    "cancer = load_breast_cancer()\n",
    "X_train, X_test, y_train, y_test = train_test_split(\n",
    "    cancer.data, cancer.target, stratify = cancer.target, random_state=0)"
   ]
  },
  {
   "cell_type": "code",
   "execution_count": null,
   "metadata": {},
   "outputs": [],
   "source": [
    "# 標準化\n",
    "sc = StandardScaler()\n",
    "sc.fit(X_train)\n",
    "X_train_std = sc.transform(X_train)\n",
    "X_test_std = sc.transform(X_test)"
   ]
  },
  {
   "cell_type": "code",
   "execution_count": null,
   "metadata": {},
   "outputs": [],
   "source": [
    "from sklearn.metrics import confusion_matrix\n",
    "\n",
    "model = LogisticRegression()\n",
    "fit_model = model.fit(X_train_std,y_train)\n",
    "print('train:',fit_model.__class__.__name__ ,fit_model.score(X_train_std,y_train))\n",
    "print('test:',fit_model.__class__.__name__ , fit_model.score(X_test_std,y_test))\n",
    "\n",
    "pred_y = fit_model.predict(X_test_std)\n",
    "confusion_m = confusion_matrix(y_test,pred_y)\n",
    "\n",
    "print('Confution matrix:\\n{}'.format(confusion_m))"
   ]
  },
  {
   "cell_type": "markdown",
   "metadata": {},
   "source": [
    "データを標準化して、単純にモデルを当てはめるとテストデータで正解率95.8％でした。この結果を上回る方法を考えてみてください。"
   ]
  },
  {
   "cell_type": "markdown",
   "metadata": {},
   "source": [
    "### **解答例**"
   ]
  },
  {
   "cell_type": "markdown",
   "metadata": {},
   "source": [
    "いろいろなアプローチがありますが、ここでは教師なし学習＋教師あり学習のハイブリッドアプローチでやってみましょう。まずはクラスタリングしてみます。"
   ]
  },
  {
   "cell_type": "markdown",
   "metadata": {},
   "source": [
    "クラスター数を5に設定して計算します。"
   ]
  },
  {
   "cell_type": "code",
   "execution_count": null,
   "metadata": {},
   "outputs": [],
   "source": [
    "# インポート\n",
    "from sklearn.cluster import KMeans\n",
    "\n",
    "# KMeansオブジェクトを初期化\n",
    "kmeans_pp = KMeans(n_clusters=5)\n",
    "\n",
    "# クラスターの重心を計算\n",
    "kmeans_pp.fit(X_train_std)\n",
    "\n",
    "# クラスター番号を予測\n",
    "y_train_cl = kmeans_pp.fit_predict(X_train_std)"
   ]
  },
  {
   "cell_type": "markdown",
   "metadata": {},
   "source": [
    "学習データでモデルを構築した結果を使って、テストデータに適応させます。"
   ]
  },
  {
   "cell_type": "code",
   "execution_count": null,
   "metadata": {},
   "outputs": [],
   "source": [
    "# テストデータでクラスター番号を予測\n",
    "y_test_cl = kmeans_pp.fit_predict(X_test_std)"
   ]
  },
  {
   "cell_type": "markdown",
   "metadata": {},
   "source": [
    "モデリングで扱えるように、フラグを立てます。"
   ]
  },
  {
   "cell_type": "code",
   "execution_count": null,
   "metadata": {},
   "outputs": [],
   "source": [
    "# 学習データで、所属しているクラスターにフラグを立てる\n",
    "cl_train_data = pd.DataFrame(y_train_cl,columns=['cl_nm']).astype(str)\n",
    "cl_train_data_dummy = pd.get_dummies(cl_train_data)\n",
    "cl_train_data_dummy.head()"
   ]
  },
  {
   "cell_type": "code",
   "execution_count": null,
   "metadata": {},
   "outputs": [],
   "source": [
    "# テストデータで、所属しているクラスターにフラグを立てる\n",
    "cl_test_data = pd.DataFrame(y_test_cl,columns=['cl_nm']).astype(str)\n",
    "cl_test_data_dummy = pd.get_dummies(cl_test_data)\n",
    "cl_test_data_dummy.head()"
   ]
  },
  {
   "cell_type": "markdown",
   "metadata": {},
   "source": [
    "次に、目的変数のデータと説明変数のデータをまとめます。"
   ]
  },
  {
   "cell_type": "code",
   "execution_count": null,
   "metadata": {},
   "outputs": [],
   "source": [
    "# 学習データでデータを結合\n",
    "merge_train_data = pd.concat([\n",
    "         pd.DataFrame(X_train_std),\n",
    "         cl_train_data_dummy,\n",
    "         pd.DataFrame(y_train,columns=['flg'])\n",
    "    ], axis=1)\n",
    "\n",
    "# テストデータでデータを結合\n",
    "merge_test_data = pd.concat([\n",
    "        pd.DataFrame(X_test_std),\n",
    "        cl_test_data_dummy,\n",
    "        pd.DataFrame(y_test,columns=['flg'])\n",
    "    ], axis=1)"
   ]
  },
  {
   "cell_type": "code",
   "execution_count": null,
   "metadata": {
    "scrolled": true
   },
   "outputs": [],
   "source": [
    "merge_train_data.head()"
   ]
  },
  {
   "cell_type": "markdown",
   "metadata": {},
   "source": [
    "次に、主成分分析をかけて、どの要素数がスコアが良いか計算してみます。"
   ]
  },
  {
   "cell_type": "code",
   "execution_count": null,
   "metadata": {
    "scrolled": true
   },
   "outputs": [],
   "source": [
    "from sklearn.metrics import confusion_matrix\n",
    "\n",
    "model = LogisticRegression()\n",
    "X_train_data = merge_train_data.drop('flg', axis=1)\n",
    "X_test_data = merge_test_data.drop('flg', axis=1)\n",
    "\n",
    "y_train_data = merge_train_data['flg']\n",
    "y_test_data = merge_test_data['flg']\n",
    "\n",
    "# 主成分分析\n",
    "from sklearn.decomposition import PCA\n",
    "\n",
    "best_score = 0\n",
    "best_num = 0\n",
    "\n",
    "for num_com in range(8):\n",
    "    pca = PCA(n_components=num_com+1)\n",
    "    pca.fit(X_train_data)\n",
    "    X_train_pca = pca.transform(X_train_data)\n",
    "    X_test_pca = pca.transform(X_test_data)\n",
    "\n",
    "    logistic_model = model.fit(X_train_pca,y_train_data)\n",
    "    \n",
    "    train_score = logistic_model.score(X_train_pca,y_train_data)\n",
    "    test_score = logistic_model.score(X_test_pca,y_test_data)\n",
    "    \n",
    "    \n",
    "    if best_score < test_score:\n",
    "        best_score = test_score\n",
    "        best_num = num_com+1\n",
    "        \n",
    "print('best score:',best_score)\n",
    "print('best num componets:',best_num)"
   ]
  },
  {
   "cell_type": "markdown",
   "metadata": {},
   "source": [
    "クラスター分析＋主成分分析の結果を利用して、正解率96.5％に改善しました。\n",
    "\n",
    "単に精度を上げるためだけではなく、マーケティング分析でも、教師なし学習＋教師あり学習のアプローチを使用することがあります。\n",
    "\n",
    "具体的には、教師なしのクラスター分析を使ってそれぞれのセグメントの特性を把握した後に、各セグメントに、どれくらいの割合で（ある商品を）購入する人、しない人がいるのか予測したい時に教師あり学習を使ったりします。これらのアプローチについては他にもいろいろとアイデアが考えられると思いますので、データ分析をする時に検討ください。"
   ]
  },
  {
   "cell_type": "markdown",
   "metadata": {},
   "source": [
    "## 11.5 総合演習問題（5）\n",
    "キーワード：時系列データ、欠損データの補完、シフト、ヒストグラム、教師あり学習"
   ]
  },
  {
   "cell_type": "markdown",
   "metadata": {},
   "source": [
    "以下のように、2001年1月2日から2016年12月30日までの為替データ（ドル/円レートのJPYUSDとユーロ/ドルレートのUSDEUR）を読み込み、問いに答えてください。なお、DEXJPUSとDEXUSEUがそれぞれJPYUSDとUSDEURに想定しています。"
   ]
  },
  {
   "cell_type": "markdown",
   "metadata": {},
   "source": [
    "1. 読み込んだデータには、祝日や休日等による欠損（NaN）があります。その補完処理をするために、直近の前の日におけるデータで補完してください。ただし年月のデータがない場合もありますので、その場合、今回は無視してください（改めて日付データを作成して、分析をすることも可能ですが、今回はこのアプローチはとりません。）。  \n",
    "2. 上記のデータで、各統計量の確認と時系列のグラフ化をしてください。  \n",
    "3. 当日と前日における差分をとり、それぞれの変化率（当日-前日）/前日のデータをヒストグラムで表示してください。　　  \n",
    "4. 将来の価格（例：次の日）を予測するモデルを構築してみましょう。具体的には、2016年11月を訓練データとして、当日の価格を目的変数として、前日、前々日、3日前の価格データを使ってモデル（線形回帰）を構築し、2016年12月をテストデータとして、検証してください。また、他の月や年で実施すると、どんな結果になりますか。   "
   ]
  },
  {
   "cell_type": "markdown",
   "metadata": {},
   "source": [
    "まず、以下を実行して、データをダウンロードしてください。"
   ]
  },
  {
   "cell_type": "code",
   "execution_count": null,
   "metadata": {},
   "outputs": [],
   "source": [
    "!pip install pandas-datareader"
   ]
  },
  {
   "cell_type": "markdown",
   "metadata": {},
   "source": [
    "以下で、対象となる期間の為替データを読み込みます。"
   ]
  },
  {
   "cell_type": "code",
   "execution_count": null,
   "metadata": {},
   "outputs": [],
   "source": [
    "import pandas_datareader.data as pdr\n",
    "\n",
    "start_date = '2001-01-02'\n",
    "end_date = '2016-12-30'\n",
    "\n",
    "fx_jpusdata = pdr.DataReader('DEXJPUS','fred',start_date,end_date)\n",
    "fx_useudata = pdr.DataReader('DEXUSEU','fred',start_date,end_date)"
   ]
  },
  {
   "cell_type": "markdown",
   "metadata": {},
   "source": [
    "### **解答例**"
   ]
  },
  {
   "cell_type": "markdown",
   "metadata": {},
   "source": [
    "＜例題1＞読み込んだデータには`na`がありますので、`fillna`を使って（`ffill`をパラメータとして設定）、前の値で埋めることにします。"
   ]
  },
  {
   "cell_type": "code",
   "execution_count": null,
   "metadata": {},
   "outputs": [],
   "source": [
    "fx_jpusdata_full = fx_jpusdata.fillna(method='ffill')\n",
    "fx_useudata_full = fx_useudata.fillna(method='ffill')"
   ]
  },
  {
   "cell_type": "markdown",
   "metadata": {},
   "source": [
    "＜例題2＞それぞれの基本統計量を確認します。"
   ]
  },
  {
   "cell_type": "code",
   "execution_count": null,
   "metadata": {},
   "outputs": [],
   "source": [
    "print(fx_jpusdata_full.describe())\n",
    "print(fx_useudata_full.describe())"
   ]
  },
  {
   "cell_type": "markdown",
   "metadata": {},
   "source": [
    "時系列のデータですので、グラフにしてみましょう。"
   ]
  },
  {
   "cell_type": "code",
   "execution_count": null,
   "metadata": {},
   "outputs": [],
   "source": [
    "fx_jpusdata_full.plot()\n",
    "fx_useudata_full.plot()"
   ]
  },
  {
   "cell_type": "markdown",
   "metadata": {},
   "source": [
    "それぞれのグラフに特徴があるようです。\n",
    "\n",
    "＜例題3＞次に、前日の値との比をとって、それぞれヒストグラムにしてみましょう。"
   ]
  },
  {
   "cell_type": "code",
   "execution_count": null,
   "metadata": {},
   "outputs": [],
   "source": [
    "fx_jpusdata_full_r = (fx_jpusdata_full - fx_jpusdata_full.shift(1)) / fx_jpusdata_full.shift(1)\n",
    "fx_useudata_full_r = (fx_useudata_full - fx_useudata_full.shift(1)) / fx_useudata_full.shift(1)"
   ]
  },
  {
   "cell_type": "code",
   "execution_count": null,
   "metadata": {},
   "outputs": [],
   "source": [
    "fx_jpusdata_full_r.hist(bins=30)\n",
    "fx_useudata_full_r.hist(bins=30)"
   ]
  },
  {
   "cell_type": "markdown",
   "metadata": {},
   "source": [
    "＜例題4＞次に、前日だけではなく、2日前、3日前の値とも比べるため、そのデータセットを作成しましょう。"
   ]
  },
  {
   "cell_type": "code",
   "execution_count": null,
   "metadata": {},
   "outputs": [],
   "source": [
    "merge_data_jpusdata = pd.concat([\n",
    "        fx_jpusdata_full,\n",
    "        fx_jpusdata_full.shift(1),\n",
    "        fx_jpusdata_full.shift(2),\n",
    "        fx_jpusdata_full.shift(3)\n",
    "    ], axis=1)\n",
    "merge_data_jpusdata.columns =['today','pre_1','pre_2','pre_3']\n",
    "merge_data_jpusdata_nona = merge_data_jpusdata.dropna()\n",
    "merge_data_jpusdata_nona.head()"
   ]
  },
  {
   "cell_type": "markdown",
   "metadata": {},
   "source": [
    "それでは、早速、モデル構築をしてみましょう。"
   ]
  },
  {
   "cell_type": "code",
   "execution_count": null,
   "metadata": {},
   "outputs": [],
   "source": [
    "from datetime import datetime, date, timedelta\n",
    "from dateutil.relativedelta import relativedelta\n",
    "\n",
    "# モデル\n",
    "from sklearn import linear_model\n",
    "\n",
    "# モデルの初期化\n",
    "l_model = linear_model.LinearRegression()\n",
    "\n",
    "pre_term = '2016-11'\n",
    "pos_term = '2016-12'\n",
    "        \n",
    "for pre_list in (['pre_1'],['pre_1','pre_2'],['pre_1','pre_2','pre_3']):\n",
    "\n",
    "    print(pre_list)\n",
    "    train = merge_data_jpusdata_nona[pre_term]\n",
    "    X_train = pd.DataFrame(train[pre_list])\n",
    "    y_train = train['today']\n",
    "\n",
    "    test = merge_data_jpusdata_nona[pos_term]\n",
    "    X_test = pd.DataFrame(test[pre_list])\n",
    "    y_test = test['today']\n",
    "    \n",
    "    # モデルのあてはめ\n",
    "    fit_model = l_model.fit(X_train,y_train)\n",
    "    print('train:',fit_model.__class__.__name__ ,fit_model.score(X_train,y_train))\n",
    "    print('test:',fit_model.__class__.__name__ , fit_model.score(X_test,y_test))"
   ]
  },
  {
   "cell_type": "markdown",
   "metadata": {},
   "source": [
    "上記の結果より、訓練データとテストデータに大きな乖離があり、過学習になっているようです。他にも適合率や再現率等も見てください。為替のデータや金融商品の価格予測は困難だといわれており、機械学習以外にもさまざまなアプローチや研究がされています。"
   ]
  },
  {
   "cell_type": "markdown",
   "metadata": {},
   "source": [
    "## 11.6 総合演習問題（6）\n",
    "キーワード：時系列データ、回帰分析"
   ]
  },
  {
   "cell_type": "markdown",
   "metadata": {},
   "source": [
    "以下の米国の旅客飛行機のフライトデータ」を取得し、読み込んで以下の問いに答えてください。ただし、今回は2000年より前のデータ（1987～1999）を分析対象とします。\n",
    "\n",
    "http://stat-computing.org/dataexpo/2009/the-data.html\n"
   ]
  },
  {
   "cell_type": "markdown",
   "metadata": {},
   "source": [
    "\n",
    "1. データを読み込んだ後は、年（Year）×月（Month）の平均の出発遅延時間（DepDelay）を算出してください。何かわかることはありますか。  \n",
    "2. 1で算出したデータについて、1月から12月までの結果を時系列の折れ線グラフにしてください。その時、年ごとに比較できるように、1つのグラフにまとめてください。1987年から1999年までのデータについて、それぞれの時系列グラフが並ぶイメージです。\n",
    "\n",
    "3. 各航空会社（UniqueCarrier）ごとの平均遅延時間を算出してください。また、出発地（Origin）、目的地（Dest）を軸にして、平均遅延時間を算出してください。  \n",
    "4. 遅延時間を予測するための予測モデルを構築します。目的変数をDepDelay、説明変数をArrDelay（実際の到着時間？）とDistance（飛行距離？）にして、モデルを構築しましょう。"
   ]
  },
  {
   "cell_type": "markdown",
   "metadata": {},
   "source": [
    "データの取得は、以下のスクリプトを参考に、実装と実行をしてください。ただし、以下を実行する場合は別ファイルとして、「ファイル名.sh」の形式で保存し、そのファイルをここで実行する場合は、「bash ファイル名.sh」で実行します。もしくは、terminalに移動し、専用のディレクトリなどを作って、スクリプトを実行して、データを取得してください。他、Pythonから取得する方法もありますし、以前はzipを展開してデータを読み込んでいましたが、zipのまま加工できるプログラムも書けますので、ぜひ調べてやってみてください。**なおdataのダウンロードにとても時間がかかりますので、注意しましょう。**"
   ]
  },
  {
   "cell_type": "markdown",
   "metadata": {},
   "source": [
    "参考シェルスクリプト：\n",
    "\n",
    "#!/bin/sh\n",
    "\n",
    "for year in {1987..1999} ; do  \n",
    "    echo ¥$year  \n",
    "    wget http://stat-computing.org/dataexpo/2009/${year}.csv.bz2  \n",
    "    bzip2 -d ${year}.csv.bz2  \n",
    "done  "
   ]
  },
  {
   "cell_type": "markdown",
   "metadata": {},
   "source": [
    "なお、上記はLinuxやMacの環境の方のみで、Windowsの方は以下のようなスクリプトで圧縮ファイルをダウンロードして解凍してください。"
   ]
  },
  {
   "cell_type": "code",
   "execution_count": null,
   "metadata": {},
   "outputs": [],
   "source": [
    "import urllib.request\n",
    "\n",
    "for year in range(1987,2000):    \n",
    "    url = 'http://stat-computing.org/dataexpo/2009/'\n",
    "    savename = str(year) + '.csv.bz2'\n",
    "    #ダウンロード \n",
    "    urllib.request.urlretrieve(url, savename)\n",
    "    print('{}年のファイルを保存しました'.format(year))"
   ]
  },
  {
   "cell_type": "markdown",
   "metadata": {},
   "source": [
    "### **解答**"
   ]
  },
  {
   "cell_type": "markdown",
   "metadata": {},
   "source": [
    "＜例題1＞以下の実装は、データが取得できたとして、該当のパスから、規則性のあるファイル名を探し出し、それらのデータをマージしています。なお、glob関数は、Unixシェルの規則を使ってファイル名等のパターンマッチをします。ただし、すべてのデータを処理するためには、ある程度のPCのスペックや環境によりますので、1980年代までのデータを対象にします。"
   ]
  },
  {
   "cell_type": "code",
   "execution_count": null,
   "metadata": {},
   "outputs": [],
   "source": [
    "# pathを入力\n",
    "path =r'/Users/data' \n",
    "\n",
    "# データをマージするための処理\n",
    "import glob\n",
    "import pandas as pd\n",
    "\n",
    "\n",
    "allFiles = glob.glob(path + '/198*.csv')\n",
    "data_frame = pd.DataFrame()\n",
    "list_ = []\n",
    "for file_ in allFiles:\n",
    "    print(file_)\n",
    "    df = pd.read_csv(file_,index_col=None, header=0,encoding ='ISO-8859-1' )\n",
    "    list_.append(df)\n",
    "frame_198 = pd.concat(list_)"
   ]
  },
  {
   "cell_type": "markdown",
   "metadata": {},
   "source": [
    "1000万行以上で、2-3Gほどあります。読み込んだらデータをチェックしましょう。"
   ]
  },
  {
   "cell_type": "code",
   "execution_count": null,
   "metadata": {},
   "outputs": [],
   "source": [
    "frame_198.head()"
   ]
  },
  {
   "cell_type": "code",
   "execution_count": null,
   "metadata": {},
   "outputs": [],
   "source": [
    "frame_198.info()"
   ]
  },
  {
   "cell_type": "markdown",
   "metadata": {},
   "source": [
    "次に、月別のレコード数を見てみましょう。"
   ]
  },
  {
   "cell_type": "code",
   "execution_count": null,
   "metadata": {},
   "outputs": [],
   "source": [
    "frame_198.groupby('Month')['Month'].count()"
   ]
  },
  {
   "cell_type": "markdown",
   "metadata": {},
   "source": [
    "遅延はDepDelayです。平均を月ごとに見ると以下になります。"
   ]
  },
  {
   "cell_type": "code",
   "execution_count": null,
   "metadata": {},
   "outputs": [],
   "source": [
    "frame_198.groupby('Month')['DepDelay'].mean()"
   ]
  },
  {
   "cell_type": "markdown",
   "metadata": {},
   "source": [
    "＜例題2＞遅延を年別、月別推移をグラフで見てみましょう。どうなるでしょうか？"
   ]
  },
  {
   "cell_type": "code",
   "execution_count": null,
   "metadata": {},
   "outputs": [],
   "source": [
    "year_month_avg_arrdelay = frame_198.groupby(['Year','Month'])['ArrDelay'].mean()"
   ]
  },
  {
   "cell_type": "code",
   "execution_count": null,
   "metadata": {},
   "outputs": [],
   "source": [
    "pd.DataFrame(year_month_avg_arrdelay).unstack().T.plot(figsize=(10,6))\n",
    "plt.legend(loc='best')\n",
    "plt.grid(True)"
   ]
  },
  {
   "cell_type": "markdown",
   "metadata": {},
   "source": [
    "毎年12月や1月にピークが来ています。年末年始に遅れが生じるのは、感覚的にも理解できます。また6月にもピークが来ています。遅延時間は季節性があるようです。"
   ]
  },
  {
   "cell_type": "markdown",
   "metadata": {},
   "source": [
    "ここでは実施しませんが、異常値等のチェックもしましょう。最大値が極端に大きかったり、最小値が極端に小さい時もあるようです。"
   ]
  },
  {
   "cell_type": "markdown",
   "metadata": {},
   "source": [
    "＜例題3＞ 次に航空会社によって（UniqueCarrier）、ArrDelay（遅延）に違いはあるのでしょうか。"
   ]
  },
  {
   "cell_type": "code",
   "execution_count": null,
   "metadata": {
    "scrolled": false
   },
   "outputs": [],
   "source": [
    "frame_198.groupby(['UniqueCarrier'])['ArrDelay'].mean()"
   ]
  },
  {
   "cell_type": "markdown",
   "metadata": {},
   "source": [
    "PI航空会社の遅延が目立っています。"
   ]
  },
  {
   "cell_type": "markdown",
   "metadata": {},
   "source": [
    "次は、出発地や目的地による違いです。かなりばらつきがあるようです。"
   ]
  },
  {
   "cell_type": "code",
   "execution_count": null,
   "metadata": {
    "scrolled": true
   },
   "outputs": [],
   "source": [
    "origin_avg_arrdelay = pd.DataFrame(frame_19.groupby(['Origin'])['ArrDelay'].mean()).reset_index()\n",
    "origin_avg_arrdelay.head()"
   ]
  },
  {
   "cell_type": "code",
   "execution_count": null,
   "metadata": {
    "scrolled": true
   },
   "outputs": [],
   "source": [
    "dest_avg_arrdelay = pd.DataFrame(frame_19.groupby(['Dest'])['ArrDelay'].mean()).reset_index()\n",
    "dest_avg_arrdelay.head()"
   ]
  },
  {
   "cell_type": "markdown",
   "metadata": {},
   "source": [
    "＜例題4＞ 次は、遅延時間を予測するための簡単なモデルを作成します。"
   ]
  },
  {
   "cell_type": "code",
   "execution_count": null,
   "metadata": {},
   "outputs": [],
   "source": [
    "analysis_data = frame_19[['DepDelay','Distance','ArrDelay']]"
   ]
  },
  {
   "cell_type": "markdown",
   "metadata": {},
   "source": [
    "今回、NAは分析対象から外します。6章でも述べましたが、実務では、このような欠損データ等はどのように扱うかはきちんと確認、議論した上で進めてください。"
   ]
  },
  {
   "cell_type": "code",
   "execution_count": null,
   "metadata": {},
   "outputs": [],
   "source": [
    "analysis_data_full = analysis_data.dropna()"
   ]
  },
  {
   "cell_type": "code",
   "execution_count": null,
   "metadata": {},
   "outputs": [],
   "source": [
    "X = analysis_data_full[['DepDelay','Distance']]\n",
    "Y = analysis_data_full['ArrDelay']"
   ]
  },
  {
   "cell_type": "code",
   "execution_count": null,
   "metadata": {
    "scrolled": true
   },
   "outputs": [],
   "source": [
    "# データの分割（学習データとテストデータ分ける）\n",
    "from sklearn.model_selection import train_test_split\n",
    "\n",
    "# モデル\n",
    "from sklearn import linear_model\n",
    "\n",
    "# モデルのインスタンス\n",
    "l_model = linear_model.LinearRegression()\n",
    "\n",
    "# 学習データとテストデータ分ける\n",
    "X_train, X_test, y_train, y_test = train_test_split(X, Y, test_size=0.5,random_state=0)\n",
    "\n",
    "# モデルのあてはめ\n",
    "fit_model = l_model.fit(X_train,y_train)\n",
    "print('train:',fit_model.__class__.__name__ ,fit_model.score(X_train,y_train))\n",
    "print('test:',fit_model.__class__.__name__ , fit_model.score(X_test,y_test))\n",
    " \n",
    "# 偏回帰係数\n",
    "print(pd.DataFrame({'Name':X.columns,\n",
    "                    'Coefficients':fit_model.coef_}).sort_values(by='Coefficients') )\n",
    "\n",
    "# 切片 \n",
    "print(fit_model.intercept_)"
   ]
  },
  {
   "cell_type": "markdown",
   "metadata": {},
   "source": [
    "他、Spark（Pyspark）でも計算できますので、余裕があればやってみてください。"
   ]
  }
 ],
 "metadata": {
  "anaconda-cloud": {},
  "kernelspec": {
   "display_name": "Python 3",
   "language": "python",
   "name": "python3"
  },
  "language_info": {
   "codemirror_mode": {
    "name": "ipython",
    "version": 3
   },
   "file_extension": ".py",
   "mimetype": "text/x-python",
   "name": "python",
   "nbconvert_exporter": "python",
   "pygments_lexer": "ipython3",
   "version": "3.7.0"
  }
 },
 "nbformat": 4,
 "nbformat_minor": 1
}
