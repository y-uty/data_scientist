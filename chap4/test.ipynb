{
 "cells": [
  {
   "cell_type": "code",
   "execution_count": 7,
   "metadata": {},
   "outputs": [],
   "source": [
    "import numpy as np\n",
    "import scipy as sp\n",
    "import pandas as pd\n",
    "import matplotlib.pyplot as plt\n",
    "import matplotlib as mpl\n",
    "import seaborn as sns\n",
    "%matplotlib inline\n",
    "from sklearn import linear_model\n",
    "%precision 3\n",
    "np.random.seed(0)"
   ]
  },
  {
   "cell_type": "code",
   "execution_count": 8,
   "metadata": {},
   "outputs": [],
   "source": [
    "#サイコロ定義\n",
    "dice = np.array([1,2,3,4,5,6])"
   ]
  },
  {
   "cell_type": "code",
   "execution_count": 9,
   "metadata": {
    "scrolled": false
   },
   "outputs": [
    {
     "data": {
      "text/plain": [
       "array([5])"
      ]
     },
     "execution_count": 9,
     "metadata": {},
     "output_type": "execute_result"
    }
   ],
   "source": [
    "#サイコロarrayからランダムに値を1個取り出す\n",
    "#あたりまえだが実行するたびに取り出される値はかわる\n",
    "np.random.choice(dice,1)"
   ]
  },
  {
   "cell_type": "code",
   "execution_count": 10,
   "metadata": {},
   "outputs": [],
   "source": [
    "#１つずつの試行結果　⇒　根本事象\n",
    "#起こりうるすべての根本事象を集めた集合　⇒　標本空間\n",
    "#標本空間の任意の部分集合　⇒　事象\n",
    "#要素を全く持たない集合　⇒　空集合Φ　サイコロで7がでる事象(ありえない)、確率もゼロ\n",
    "#ある事象Eに属さない結果の集合　⇒　余事象(補集合)　c(complement)をEの右肩において表現"
   ]
  },
  {
   "cell_type": "code",
   "execution_count": 11,
   "metadata": {},
   "outputs": [
    {
     "name": "stdout",
     "output_type": "stream",
     "text": [
      "1 が出る確率は 0.1669\n",
      "2 が出る確率は 0.1714\n",
      "3 が出る確率は 0.1602\n",
      "4 が出る確率は 0.1706\n",
      "5 が出る確率は 0.1644\n",
      "6 が出る確率は 0.1665\n",
      "※ 1/6 = 0.16666666666666666\n"
     ]
    }
   ],
   "source": [
    "#統計的確率　⇒　サイコロを10,000回ふった結果、各目が出る確率は本当に1/6になるのか？\n",
    "steps = 10000\n",
    "#配列rollsに10000回の結果を格納\n",
    "rolls = np.random.choice(dice,steps)\n",
    "#各目の確率を計算してprint\n",
    "for i in range(1,7):\n",
    "    p = len(rolls[rolls==i]) / steps\n",
    "    print(i, 'が出る確率は', p)\n",
    "print('※ 1/6 =',1/6)"
   ]
  },
  {
   "cell_type": "code",
   "execution_count": 12,
   "metadata": {},
   "outputs": [
    {
     "name": "stdout",
     "output_type": "stream",
     "text": [
      "0 が出る確率は 0.479\n",
      "1 が出る確率は 0.521\n"
     ]
    }
   ],
   "source": [
    "#練習問題4-1\n",
    "#コインを1,000回投げて、表・裏それぞれが出る確率を求める\n",
    "#0:おもて、1:うら\n",
    "coin = np.array([0,1])\n",
    "steps = 1000\n",
    "throw = np.random.choice(coin,steps)\n",
    "for i in range(0,2):\n",
    "    p = len(throw[throw==i])/steps\n",
    "    print(i, 'が出る確率は', p)"
   ]
  },
  {
   "cell_type": "code",
   "execution_count": 13,
   "metadata": {},
   "outputs": [],
   "source": [
    "#4-2と4-3はノートに手計算で解いた"
   ]
  },
  {
   "cell_type": "code",
   "execution_count": 14,
   "metadata": {},
   "outputs": [],
   "source": [
    "#ある変数が確率的に値をとる場合、その変数を確率変数といい、確率変数がとりうる値を実現値とよぶ\n",
    "#分布関数（累積分布関数）　⇒　確率変数Xが実数x以下になる確率の関数"
   ]
  },
  {
   "cell_type": "code",
   "execution_count": 15,
   "metadata": {},
   "outputs": [
    {
     "data": {
      "image/png": "[encoded data removed]",
      "text/plain": [
       "<Figure size 432x288 with 1 Axes>"
      ]
     },
     "metadata": {
      "needs_background": "light"
     },
     "output_type": "display_data"
    }
   ],
   "source": [
    "#一様分布　⇒　サイコロのようにすべての事象の起こる確率が等しい\n",
    "#サイコロを1万回ふる\n",
    "dice = np.array([1,2,3,4,5,6])\n",
    "steps = 10000\n",
    "rolls = np.random.choice(dice,steps)\n",
    "probability = np.array([])\n",
    "for i in range(1,7):\n",
    "    p = len(rolls[rolls==i]) / steps\n",
    "    probability = np.append(probability, p)\n",
    "#分布を棒グラフで描画\n",
    "plt.bar(dice, probability)\n",
    "#目盛線を追加\n",
    "plt.grid(True)"
   ]
  },
  {
   "cell_type": "code",
   "execution_count": 16,
   "metadata": {},
   "outputs": [
    {
     "data": {
      "image/png": "[encoded data removed]",
      "text/plain": [
       "<Figure size 432x288 with 1 Axes>"
      ]
     },
     "metadata": {
      "needs_background": "light"
     },
     "output_type": "display_data"
    }
   ],
   "source": [
    "#ベルヌーイ分布　⇒　1回のベルヌーイ試行（結果が2種類しかない試行）における各事象が生じる確率の分布\n",
    "#コインを1000回投げる\n",
    "#0:おもて、1:うら\n",
    "coin = np.array([0,1])\n",
    "steps = 1000\n",
    "throw = np.random.choice(coin,steps)\n",
    "probability = np.array([])\n",
    "for i in range(0,2):\n",
    "    p = len(throw[throw==i])/steps\n",
    "    probability = np.append(probability, p)\n",
    "plt.bar(coin, probability)\n",
    "plt.grid(True)"
   ]
  },
  {
   "cell_type": "code",
   "execution_count": 17,
   "metadata": {},
   "outputs": [],
   "source": [
    "#分布に基づくデータを取得する"
   ]
  },
  {
   "cell_type": "code",
   "execution_count": 18,
   "metadata": {},
   "outputs": [
    {
     "data": {
      "image/png": "[encoded data removed]",
      "text/plain": [
       "<Figure size 432x288 with 1 Axes>"
      ]
     },
     "metadata": {
      "needs_background": "light"
     },
     "output_type": "display_data"
    }
   ],
   "source": [
    "#二項分布　⇒　ベルヌーイ試行を独立に n 回行ったときの成功回数を確率変数とする離散確率分布\n",
    "#母集団から500人を抽出し、そこに罹患率が10%の感染症に罹患している人は何人いるかを考える\n",
    "#ただし、母集団は500人よりも十分に大きい(今回は10万人)\n",
    "n = 500\n",
    "p = 0.1\n",
    "sample = 100000\n",
    "#　binomial(n, p, sample) は、成功確率pの試行をn回行ったときの成功回数を、sample回計算し、一次元配列で返す\n",
    "x = np.random.binomial(n, p, sample)\n",
    "#　binomialの結果をヒストグラムで積み上げれば二項分布になる\n",
    "#　　⇒縦軸は成功回数が同じ要素がどれだけあったかを表す\n",
    "#　　　⇒抽出した集団(n)の分布が、全対(sanmple)の分布と似通うか、かけ離れるかの確率を定量的に表したもの\n",
    "#　　　　今回の例では、500*0.1=50人に近くなることが表現される\n",
    "plt.hist(x)\n",
    "plt.grid(True)"
   ]
  },
  {
   "cell_type": "code",
   "execution_count": 19,
   "metadata": {},
   "outputs": [
    {
     "data": {
      "text/plain": [
       "0.0592"
      ]
     },
     "execution_count": 19,
     "metadata": {},
     "output_type": "execute_result"
    },
    {
     "data": {
      "image/png": "[encoded data removed]",
      "text/plain": [
       "<Figure size 432x288 with 1 Axes>"
      ]
     },
     "metadata": {
      "needs_background": "light"
     },
     "output_type": "display_data"
    }
   ],
   "source": [
    "#縦軸を成功確率として、散布図で図示する（こちらの方が確率分布として理解しやすい…）\n",
    "y = np.array([])\n",
    "axis_x = np.array([])\n",
    "for i in range(1,n+1):\n",
    "    y = np.append(y, len(x[x==i]) / sample)\n",
    "    axis_x = np.append(axis_x, i)\n",
    "plt.scatter(axis_x, y)\n",
    "plt.xlim(0, 200)\n",
    "plt.grid(True)\n",
    "np.amax(y)"
   ]
  },
  {
   "cell_type": "code",
   "execution_count": 20,
   "metadata": {},
   "outputs": [
    {
     "name": "stdout",
     "output_type": "stream",
     "text": [
      "0.04027\n"
     ]
    },
    {
     "data": {
      "image/png": "[encoded data removed]",
      "text/plain": [
       "<Figure size 432x288 with 1 Axes>"
      ]
     },
     "metadata": {
      "needs_background": "light"
     },
     "output_type": "display_data"
    }
   ],
   "source": [
    "#ポアソン分布　⇒　単位時間/空間当たりに平均λ回起こる事象が丁度k回起こる確率を表す確率分布\n",
    "#1日あたり平均100通の電子メールを受け取るとき、1日にk通受け取る確率を考える\n",
    "# poisson(lamda, sample)\n",
    "lamda = 100\n",
    "sample = 100000\n",
    "x = np.random.poisson(lamda, sample)\n",
    "xmax = np.amax(x)\n",
    "axis_x = np.arange(xmax)\n",
    "y = np.array([])\n",
    "for i in range(0, xmax):\n",
    "    y = np.append(y, len(x[x==i]) / sample)\n",
    "plt.scatter(axis_x, y)\n",
    "plt.grid(True)\n",
    "print(np.amax(y))"
   ]
  },
  {
   "cell_type": "code",
   "execution_count": 21,
   "metadata": {},
   "outputs": [
    {
     "data": {
      "image/png": "[encoded data removed]",
      "text/plain": [
       "<Figure size 432x288 with 1 Axes>"
      ]
     },
     "metadata": {
      "needs_background": "light"
     },
     "output_type": "display_data"
    }
   ],
   "source": [
    "#正規分布　⇒　平均値の付近に集積するようなデータの分布を表した連続的な変数に関する確率分布\n",
    "# normal(average, std, sample)\n",
    "average = 70\n",
    "maxval = 100\n",
    "std = 10\n",
    "sample = 100000\n",
    "x = np.random.normal(average, std, sample)\n",
    "plt.hist(x)\n",
    "plt.grid(True)\n",
    "#正規分布は連続的な変数であるため、散布図で表すことはできない"
   ]
  },
  {
   "cell_type": "code",
   "execution_count": 22,
   "metadata": {},
   "outputs": [],
   "source": [
    "#カーネル密度関数　⇒　与えられたデータから、確率密度関数を推定して曲線で描画する"
   ]
  },
  {
   "cell_type": "code",
   "execution_count": 23,
   "metadata": {},
   "outputs": [
    {
     "name": "stdout",
     "output_type": "stream",
     "text": [
      "C:\\Users\\y-uchiyama\\python\\202007_datascientist\\chap3\n"
     ]
    }
   ],
   "source": [
    "cd C:\\Users\\y-uchiyama\\python\\202007_datascientist\\chap3"
   ]
  },
  {
   "cell_type": "code",
   "execution_count": 24,
   "metadata": {},
   "outputs": [
    {
     "name": "stdout",
     "output_type": "stream",
     "text": [
      " ドライブ C のボリューム ラベルは Windows です\n",
      " ボリューム シリアル番号は AC28-9F65 です\n",
      "\n",
      " C:\\Users\\y-uchiyama\\python\\202007_datascientist\\chap3 のディレクトリ\n",
      "\n",
      "2020/07/28  10:17    <DIR>          .\n",
      "2020/07/28  10:17    <DIR>          ..\n",
      "2020/07/28  09:45    <DIR>          .ipynb_checkpoints\n",
      "2020/07/09  10:22             7,871 3_3_1_absences.png\n",
      "2020/07/08  17:34             8,639 3_3_1_absences_bins20.png\n",
      "2020/07/09  10:22             7,055 3_3_1_G3.png\n",
      "2020/07/08  17:34             7,055 3_3_1_G3_bins20.png\n",
      "2020/07/08  17:34               219 absences.csv\n",
      "2020/07/08  17:34               123 G3.csv\n",
      "2020/07/08  17:27             3,206 student.txt\n",
      "2020/07/08  17:27            56,993 student-mat.csv\n",
      "2020/07/08  17:27               269 student-merge.R\n",
      "2020/07/08  17:27            93,220 student-por.csv\n",
      "2020/07/28  10:17            22,193 練習問題.ipynb\n",
      "              11 個のファイル             206,843 バイト\n",
      "               3 個のディレクトリ  42,185,744,384 バイトの空き領域\n"
     ]
    }
   ],
   "source": [
    "ls"
   ]
  },
  {
   "cell_type": "code",
   "execution_count": 25,
   "metadata": {},
   "outputs": [
    {
     "data": {
      "text/plain": [
       "<matplotlib.axes._subplots.AxesSubplot at 0x1fc9d1c7708>"
      ]
     },
     "execution_count": 25,
     "metadata": {},
     "output_type": "execute_result"
    },
    {
     "data": {
      "image/png": "[encoded data removed]",
      "text/plain": [
       "<Figure size 432x288 with 1 Axes>"
      ]
     },
     "metadata": {
      "needs_background": "light"
     },
     "output_type": "display_data"
    }
   ],
   "source": [
    "#データ読み込み\n",
    "data_math = pd.read_csv('student-mat.csv', sep=';')\n",
    "#カーネル密度関数\n",
    "data_math.absences.plot(kind='kde', style='k--')\n",
    "#ヒストグラムをあわせて表示　density=True　とすることで確率表示に\n",
    "data_math.absences.hist(density=True)"
   ]
  },
  {
   "cell_type": "code",
   "execution_count": 26,
   "metadata": {},
   "outputs": [
    {
     "data": {
      "image/png": "[encoded data removed]",
      "text/plain": [
       "<Figure size 432x288 with 1 Axes>"
      ]
     },
     "metadata": {
      "needs_background": "light"
     },
     "output_type": "display_data"
    }
   ],
   "source": [
    "#練習問題4-4\n",
    "#平均0、分散1の正規分布からn=100の標本抽出を10,000回繰り返し、標本平均のヒストグラムを描く\n",
    "average = 0\n",
    "#標準偏差は分散の平方根\n",
    "std = np.sqrt(1)\n",
    "sample = 100\n",
    "repeat = 10000\n",
    "normal_mean = []\n",
    "# np.mean で配列の要素の平均値を求める\n",
    "for i in range(repeat):\n",
    "    normal_mean = np.append(normal_mean, np.random.normal(average, std, sample).mean()) \n",
    "plt.hist(normal_mean)\n",
    "plt.grid(True)"
   ]
  },
  {
   "cell_type": "code",
   "execution_count": 27,
   "metadata": {},
   "outputs": [
    {
     "data": {
      "image/png": "[encoded data removed]",
      "text/plain": [
       "<Figure size 432x288 with 1 Axes>"
      ]
     },
     "metadata": {
      "needs_background": "light"
     },
     "output_type": "display_data"
    }
   ],
   "source": [
    "#練習問題4-5\n",
    "#4-4の対数正規分布の場合\n",
    "lognorm_mean = []\n",
    "for i in range(repeat):\n",
    "    lognorm_mean = np.append(lognorm_mean, np.random.lognormal(average, std, sample).mean()) \n",
    "plt.hist(lognorm_mean)\n",
    "plt.grid(True)"
   ]
  },
  {
   "cell_type": "code",
   "execution_count": 28,
   "metadata": {},
   "outputs": [],
   "source": [
    "#練習問題4-6\n",
    "#「student_data_math」の一期目の成績(G1)のヒストグラムとカーネル密度推定を描く"
   ]
  },
  {
   "cell_type": "code",
   "execution_count": 29,
   "metadata": {},
   "outputs": [
    {
     "data": {
      "text/plain": [
       "<matplotlib.axes._subplots.AxesSubplot at 0x1fc9d4a6888>"
      ]
     },
     "execution_count": 29,
     "metadata": {},
     "output_type": "execute_result"
    },
    {
     "data": {
      "image/png": "[encoded data removed]",
      "text/plain": [
       "<Figure size 432x288 with 1 Axes>"
      ]
     },
     "metadata": {
      "needs_background": "light"
     },
     "output_type": "display_data"
    }
   ],
   "source": [
    "#データ読み込み\n",
    "data_math = pd.read_csv('student-mat.csv', sep=';')\n",
    "#データ形式を確認しておく\n",
    "data_math.head()\n",
    "#カーネル密度関数\n",
    "data_math.G1.plot(kind='kde', style='k--')\n",
    "#ヒストグラムをあわせて表示　density=True　とすることで確率表示に\n",
    "data_math.G1.hist(density=True)"
   ]
  },
  {
   "cell_type": "code",
   "execution_count": 30,
   "metadata": {},
   "outputs": [
    {
     "data": {
      "image/png": "[encoded data removed]",
      "text/plain": [
       "<Figure size 432x288 with 1 Axes>"
      ]
     },
     "metadata": {
      "needs_background": "light"
     },
     "output_type": "display_data"
    }
   ],
   "source": [
    "#確率密度関数の積分を求めたい\n",
    "#今回はscipyをつかう\n",
    "#KDE推定のライブラリ\n",
    "from scipy.stats import gaussian_kde\n",
    "#数値積分のライブラリ\n",
    "from scipy.integrate import cumtrapz\n",
    "from scipy.integrate import simps\n",
    "#pd.readのDataFrame型を指定列の値だけ抜き出して配列に格納しておく\n",
    "score = []\n",
    "score = data_math.G1.values\n",
    "#KDE推定\n",
    "kernel = gaussian_kde(score)\n",
    "#積分する範囲 \n",
    "sttval = 0\n",
    "endval = 30\n",
    "num = 5000\n",
    "xs = np.linspace(sttval, endval, num) #np.linspace(最初の値, 最後の値, 要素数) パラメータに応じた公差の等差数列を生成する\n",
    "#積分する関数\n",
    "ys = kernel(xs)\n",
    "#累積積分の実行\n",
    "cdf = cumtrapz(ys, xs, initial=0)\n",
    "plt.plot(xs, cdf)\n",
    "plt.grid(True)"
   ]
  },
  {
   "cell_type": "code",
   "execution_count": 31,
   "metadata": {},
   "outputs": [
    {
     "name": "stdout",
     "output_type": "stream",
     "text": [
      "値が 0 から 30 までとなる確率は 0.9999963562558756\n"
     ]
    }
   ],
   "source": [
    "#定義区間の積分値\n",
    "print('値が', sttval, 'から', endval, 'までとなる確率は', simps(ys, xs))"
   ]
  },
  {
   "cell_type": "code",
   "execution_count": 32,
   "metadata": {},
   "outputs": [
    {
     "data": {
      "text/plain": [
       "10.694138827765553"
      ]
     },
     "execution_count": 32,
     "metadata": {},
     "output_type": "execute_result"
    }
   ],
   "source": [
    "#確率が0.5となるxを求める\n",
    "idx = np.searchsorted(cdf, 0.5) #np.searchsorted(array, searchvalue) リストの要素の近い値のインデックスを返す\n",
    "xs[idx]"
   ]
  },
  {
   "cell_type": "code",
   "execution_count": 33,
   "metadata": {
    "scrolled": true
   },
   "outputs": [
    {
     "data": {
      "image/png": "[encoded data removed]",
      "text/plain": [
       "<Figure size 432x288 with 1 Axes>"
      ]
     },
     "metadata": {
      "needs_background": "light"
     },
     "output_type": "display_data"
    }
   ],
   "source": [
    "#サイコロを2回振った積の確率分布を考える\n",
    "np.random.seed(0)\n",
    "dice = np.array([1,2,3,4,5,6])\n",
    "rolls = 10000\n",
    "results = []\n",
    "prob = []\n",
    "x = np.arange(36) + 1\n",
    "for i in range(rolls):\n",
    "    first = np.random.choice(dice,1)\n",
    "    second = np.random.choice(dice,1)\n",
    "    results = np.append(results, first * second)\n",
    "for i in range(1, 37):\n",
    "    prob = np.append(prob, len(results[results==i]) / rolls)\n",
    "plt.bar(x,prob)\n",
    "plt.grid(True)"
   ]
  },
  {
   "cell_type": "code",
   "execution_count": 34,
   "metadata": {},
   "outputs": [
    {
     "data": {
      "image/png": "[encoded data removed]",
      "text/plain": [
       "<Figure size 432x288 with 1 Axes>"
      ]
     },
     "metadata": {
      "needs_background": "light"
     },
     "output_type": "display_data"
    }
   ],
   "source": [
    "#大数の法則　N回の試行結果の平均値は、Nを大きくすると期待値に近づいていく\n",
    "dice = np.array([1,2,3,4,5,6]) #サイコロを定義\n",
    "rolls = 1000 #1000回振る\n",
    "roll_count = np.arange(1, rolls + 1) #横軸と平均値計算に必要な「回数」の1*1000配列(1,2,3,...,1000)\n",
    "path = 4 #4回繰り返して結果を比較\n",
    "#1000回サイコロを振った出目の試行の結果を4回分比較　期待値は3.5\n",
    "for i in range(path):\n",
    "    p = np.random.choice(dice, rolls).cumsum() #配列の要素を次々加算した結果で要素を置き換えた配列を返す\n",
    "    plt.plot(p/roll_count) #平均値を計算して描画\n",
    "    plt.grid(True)"
   ]
  },
  {
   "cell_type": "code",
   "execution_count": 35,
   "metadata": {},
   "outputs": [],
   "source": [
    "#中心極限定理　試行回数Nが増えるほど、標本平均が正規分布の形に近づいていく"
   ]
  },
  {
   "cell_type": "code",
   "execution_count": 36,
   "metadata": {},
   "outputs": [],
   "source": [
    "#統計的検定"
   ]
  },
  {
   "cell_type": "code",
   "execution_count": 37,
   "metadata": {
    "scrolled": true
   },
   "outputs": [
    {
     "data": {
      "text/html": [
       "<div>\n",
       "<style scoped>\n",
       "    .dataframe tbody tr th:only-of-type {\n",
       "        vertical-align: middle;\n",
       "    }\n",
       "\n",
       "    .dataframe tbody tr th {\n",
       "        vertical-align: top;\n",
       "    }\n",
       "\n",
       "    .dataframe thead th {\n",
       "        text-align: right;\n",
       "    }\n",
       "</style>\n",
       "<table border=\"1\" class=\"dataframe\">\n",
       "  <thead>\n",
       "    <tr style=\"text-align: right;\">\n",
       "      <th></th>\n",
       "      <th>school</th>\n",
       "      <th>sex</th>\n",
       "      <th>age</th>\n",
       "      <th>address</th>\n",
       "      <th>famsize</th>\n",
       "      <th>Pstatus</th>\n",
       "      <th>Medu</th>\n",
       "      <th>Fedu</th>\n",
       "      <th>Mjob</th>\n",
       "      <th>Fjob</th>\n",
       "      <th>...</th>\n",
       "      <th>famrel_por</th>\n",
       "      <th>freetime_por</th>\n",
       "      <th>goout_por</th>\n",
       "      <th>Dalc_por</th>\n",
       "      <th>Walc_por</th>\n",
       "      <th>health_por</th>\n",
       "      <th>absences_por</th>\n",
       "      <th>G1_por</th>\n",
       "      <th>G2_por</th>\n",
       "      <th>G3_por</th>\n",
       "    </tr>\n",
       "  </thead>\n",
       "  <tbody>\n",
       "    <tr>\n",
       "      <th>0</th>\n",
       "      <td>GP</td>\n",
       "      <td>F</td>\n",
       "      <td>18</td>\n",
       "      <td>U</td>\n",
       "      <td>GT3</td>\n",
       "      <td>A</td>\n",
       "      <td>4</td>\n",
       "      <td>4</td>\n",
       "      <td>at_home</td>\n",
       "      <td>teacher</td>\n",
       "      <td>...</td>\n",
       "      <td>4</td>\n",
       "      <td>3</td>\n",
       "      <td>4</td>\n",
       "      <td>1</td>\n",
       "      <td>1</td>\n",
       "      <td>3</td>\n",
       "      <td>4</td>\n",
       "      <td>0</td>\n",
       "      <td>11</td>\n",
       "      <td>11</td>\n",
       "    </tr>\n",
       "    <tr>\n",
       "      <th>1</th>\n",
       "      <td>GP</td>\n",
       "      <td>F</td>\n",
       "      <td>17</td>\n",
       "      <td>U</td>\n",
       "      <td>GT3</td>\n",
       "      <td>T</td>\n",
       "      <td>1</td>\n",
       "      <td>1</td>\n",
       "      <td>at_home</td>\n",
       "      <td>other</td>\n",
       "      <td>...</td>\n",
       "      <td>5</td>\n",
       "      <td>3</td>\n",
       "      <td>3</td>\n",
       "      <td>1</td>\n",
       "      <td>1</td>\n",
       "      <td>3</td>\n",
       "      <td>2</td>\n",
       "      <td>9</td>\n",
       "      <td>11</td>\n",
       "      <td>11</td>\n",
       "    </tr>\n",
       "    <tr>\n",
       "      <th>2</th>\n",
       "      <td>GP</td>\n",
       "      <td>F</td>\n",
       "      <td>15</td>\n",
       "      <td>U</td>\n",
       "      <td>LE3</td>\n",
       "      <td>T</td>\n",
       "      <td>1</td>\n",
       "      <td>1</td>\n",
       "      <td>at_home</td>\n",
       "      <td>other</td>\n",
       "      <td>...</td>\n",
       "      <td>4</td>\n",
       "      <td>3</td>\n",
       "      <td>2</td>\n",
       "      <td>2</td>\n",
       "      <td>3</td>\n",
       "      <td>3</td>\n",
       "      <td>6</td>\n",
       "      <td>12</td>\n",
       "      <td>13</td>\n",
       "      <td>12</td>\n",
       "    </tr>\n",
       "    <tr>\n",
       "      <th>3</th>\n",
       "      <td>GP</td>\n",
       "      <td>F</td>\n",
       "      <td>15</td>\n",
       "      <td>U</td>\n",
       "      <td>GT3</td>\n",
       "      <td>T</td>\n",
       "      <td>4</td>\n",
       "      <td>2</td>\n",
       "      <td>health</td>\n",
       "      <td>services</td>\n",
       "      <td>...</td>\n",
       "      <td>3</td>\n",
       "      <td>2</td>\n",
       "      <td>2</td>\n",
       "      <td>1</td>\n",
       "      <td>1</td>\n",
       "      <td>5</td>\n",
       "      <td>0</td>\n",
       "      <td>14</td>\n",
       "      <td>14</td>\n",
       "      <td>14</td>\n",
       "    </tr>\n",
       "    <tr>\n",
       "      <th>4</th>\n",
       "      <td>GP</td>\n",
       "      <td>F</td>\n",
       "      <td>16</td>\n",
       "      <td>U</td>\n",
       "      <td>GT3</td>\n",
       "      <td>T</td>\n",
       "      <td>3</td>\n",
       "      <td>3</td>\n",
       "      <td>other</td>\n",
       "      <td>other</td>\n",
       "      <td>...</td>\n",
       "      <td>4</td>\n",
       "      <td>3</td>\n",
       "      <td>2</td>\n",
       "      <td>1</td>\n",
       "      <td>2</td>\n",
       "      <td>5</td>\n",
       "      <td>0</td>\n",
       "      <td>11</td>\n",
       "      <td>13</td>\n",
       "      <td>13</td>\n",
       "    </tr>\n",
       "    <tr>\n",
       "      <th>...</th>\n",
       "      <td>...</td>\n",
       "      <td>...</td>\n",
       "      <td>...</td>\n",
       "      <td>...</td>\n",
       "      <td>...</td>\n",
       "      <td>...</td>\n",
       "      <td>...</td>\n",
       "      <td>...</td>\n",
       "      <td>...</td>\n",
       "      <td>...</td>\n",
       "      <td>...</td>\n",
       "      <td>...</td>\n",
       "      <td>...</td>\n",
       "      <td>...</td>\n",
       "      <td>...</td>\n",
       "      <td>...</td>\n",
       "      <td>...</td>\n",
       "      <td>...</td>\n",
       "      <td>...</td>\n",
       "      <td>...</td>\n",
       "      <td>...</td>\n",
       "    </tr>\n",
       "    <tr>\n",
       "      <th>377</th>\n",
       "      <td>MS</td>\n",
       "      <td>F</td>\n",
       "      <td>18</td>\n",
       "      <td>U</td>\n",
       "      <td>LE3</td>\n",
       "      <td>T</td>\n",
       "      <td>3</td>\n",
       "      <td>1</td>\n",
       "      <td>teacher</td>\n",
       "      <td>services</td>\n",
       "      <td>...</td>\n",
       "      <td>4</td>\n",
       "      <td>3</td>\n",
       "      <td>4</td>\n",
       "      <td>1</td>\n",
       "      <td>1</td>\n",
       "      <td>1</td>\n",
       "      <td>4</td>\n",
       "      <td>15</td>\n",
       "      <td>15</td>\n",
       "      <td>16</td>\n",
       "    </tr>\n",
       "    <tr>\n",
       "      <th>378</th>\n",
       "      <td>MS</td>\n",
       "      <td>F</td>\n",
       "      <td>18</td>\n",
       "      <td>U</td>\n",
       "      <td>GT3</td>\n",
       "      <td>T</td>\n",
       "      <td>1</td>\n",
       "      <td>1</td>\n",
       "      <td>other</td>\n",
       "      <td>other</td>\n",
       "      <td>...</td>\n",
       "      <td>3</td>\n",
       "      <td>4</td>\n",
       "      <td>4</td>\n",
       "      <td>2</td>\n",
       "      <td>2</td>\n",
       "      <td>5</td>\n",
       "      <td>3</td>\n",
       "      <td>7</td>\n",
       "      <td>8</td>\n",
       "      <td>7</td>\n",
       "    </tr>\n",
       "    <tr>\n",
       "      <th>379</th>\n",
       "      <td>MS</td>\n",
       "      <td>F</td>\n",
       "      <td>18</td>\n",
       "      <td>U</td>\n",
       "      <td>GT3</td>\n",
       "      <td>T</td>\n",
       "      <td>1</td>\n",
       "      <td>1</td>\n",
       "      <td>other</td>\n",
       "      <td>other</td>\n",
       "      <td>...</td>\n",
       "      <td>1</td>\n",
       "      <td>1</td>\n",
       "      <td>1</td>\n",
       "      <td>1</td>\n",
       "      <td>1</td>\n",
       "      <td>5</td>\n",
       "      <td>6</td>\n",
       "      <td>11</td>\n",
       "      <td>12</td>\n",
       "      <td>9</td>\n",
       "    </tr>\n",
       "    <tr>\n",
       "      <th>380</th>\n",
       "      <td>MS</td>\n",
       "      <td>M</td>\n",
       "      <td>17</td>\n",
       "      <td>U</td>\n",
       "      <td>LE3</td>\n",
       "      <td>T</td>\n",
       "      <td>3</td>\n",
       "      <td>1</td>\n",
       "      <td>services</td>\n",
       "      <td>services</td>\n",
       "      <td>...</td>\n",
       "      <td>2</td>\n",
       "      <td>4</td>\n",
       "      <td>5</td>\n",
       "      <td>3</td>\n",
       "      <td>4</td>\n",
       "      <td>2</td>\n",
       "      <td>6</td>\n",
       "      <td>10</td>\n",
       "      <td>10</td>\n",
       "      <td>10</td>\n",
       "    </tr>\n",
       "    <tr>\n",
       "      <th>381</th>\n",
       "      <td>MS</td>\n",
       "      <td>M</td>\n",
       "      <td>18</td>\n",
       "      <td>R</td>\n",
       "      <td>LE3</td>\n",
       "      <td>T</td>\n",
       "      <td>3</td>\n",
       "      <td>2</td>\n",
       "      <td>services</td>\n",
       "      <td>other</td>\n",
       "      <td>...</td>\n",
       "      <td>4</td>\n",
       "      <td>4</td>\n",
       "      <td>1</td>\n",
       "      <td>3</td>\n",
       "      <td>4</td>\n",
       "      <td>5</td>\n",
       "      <td>4</td>\n",
       "      <td>10</td>\n",
       "      <td>11</td>\n",
       "      <td>11</td>\n",
       "    </tr>\n",
       "  </tbody>\n",
       "</table>\n",
       "<p>382 rows × 53 columns</p>\n",
       "</div>"
      ],
      "text/plain": [
       "    school sex  age address famsize Pstatus  Medu  Fedu      Mjob      Fjob  \\\n",
       "0       GP   F   18       U     GT3       A     4     4   at_home   teacher   \n",
       "1       GP   F   17       U     GT3       T     1     1   at_home     other   \n",
       "2       GP   F   15       U     LE3       T     1     1   at_home     other   \n",
       "3       GP   F   15       U     GT3       T     4     2    health  services   \n",
       "4       GP   F   16       U     GT3       T     3     3     other     other   \n",
       "..     ...  ..  ...     ...     ...     ...   ...   ...       ...       ...   \n",
       "377     MS   F   18       U     LE3       T     3     1   teacher  services   \n",
       "378     MS   F   18       U     GT3       T     1     1     other     other   \n",
       "379     MS   F   18       U     GT3       T     1     1     other     other   \n",
       "380     MS   M   17       U     LE3       T     3     1  services  services   \n",
       "381     MS   M   18       R     LE3       T     3     2  services     other   \n",
       "\n",
       "     ... famrel_por freetime_por  goout_por  Dalc_por  Walc_por health_por  \\\n",
       "0    ...          4            3          4         1         1          3   \n",
       "1    ...          5            3          3         1         1          3   \n",
       "2    ...          4            3          2         2         3          3   \n",
       "3    ...          3            2          2         1         1          5   \n",
       "4    ...          4            3          2         1         2          5   \n",
       "..   ...        ...          ...        ...       ...       ...        ...   \n",
       "377  ...          4            3          4         1         1          1   \n",
       "378  ...          3            4          4         2         2          5   \n",
       "379  ...          1            1          1         1         1          5   \n",
       "380  ...          2            4          5         3         4          2   \n",
       "381  ...          4            4          1         3         4          5   \n",
       "\n",
       "    absences_por G1_por G2_por G3_por  \n",
       "0              4      0     11     11  \n",
       "1              2      9     11     11  \n",
       "2              6     12     13     12  \n",
       "3              0     14     14     14  \n",
       "4              0     11     13     13  \n",
       "..           ...    ...    ...    ...  \n",
       "377            4     15     15     16  \n",
       "378            3      7      8      7  \n",
       "379            6     11     12      9  \n",
       "380            6     10     10     10  \n",
       "381            4     10     11     11  \n",
       "\n",
       "[382 rows x 53 columns]"
      ]
     },
     "execution_count": 37,
     "metadata": {},
     "output_type": "execute_result"
    }
   ],
   "source": [
    "#数学成績でデータとポルトガル語成績データのマージ\n",
    "data_math=pd.read_csv('student-mat.csv',sep=';')\n",
    "data_por=pd.read_csv('student-por.csv',sep=';')\n",
    "data_merge= pd.merge(data_math, data_por\n",
    "                     , on=['school','sex','age','address','famsize','Pstatus','Medu','Fedu','Mjob','Fjob','reason','nursery','internet']\n",
    "                     , suffixes=('_math','_por'))\n",
    "data_merge"
   ]
  },
  {
   "cell_type": "code",
   "execution_count": 38,
   "metadata": {},
   "outputs": [
    {
     "name": "stdout",
     "output_type": "stream",
     "text": [
      "G1 数学成績平均： 10.861256544502618\n",
      "G1 ポルトガル語成績平均： 12.112565445026178\n"
     ]
    }
   ],
   "source": [
    "print('G1 数学成績平均：', data_merge.G1_math.mean())\n",
    "print('G1 ポルトガル語成績平均：', data_merge.G1_por.mean())"
   ]
  },
  {
   "cell_type": "code",
   "execution_count": 47,
   "metadata": {},
   "outputs": [
    {
     "name": "stdout",
     "output_type": "stream",
     "text": [
      "1.653655521710079e-16\n"
     ]
    }
   ],
   "source": [
    "# 「有意な差」があるといえるだろうか？ ⇒　これを考えるのが「検定」というアプローチ\n",
    "# 数学のG1成績とポルトガルのG1成績に差があると言えるか？\n",
    "from scipy import stats\n",
    "t, p = stats.ttest_rel(data_merge.G1_math, data_merge.G1_por)\n",
    "print(p)"
   ]
  },
  {
   "cell_type": "code",
   "execution_count": 49,
   "metadata": {},
   "outputs": [
    {
     "name": "stdout",
     "output_type": "stream",
     "text": [
      "2.3441656888384195e-06\n"
     ]
    }
   ],
   "source": [
    "# 数学の欠席数とポルトガルの欠席数に差があると言えるか？\n",
    "from scipy import stats\n",
    "t, p = stats.ttest_rel(data_merge.absences_math, data_merge.absences_por)\n",
    "print(p)"
   ]
  },
  {
   "cell_type": "code",
   "execution_count": 51,
   "metadata": {},
   "outputs": [
    {
     "name": "stdout",
     "output_type": "stream",
     "text": [
      "0.5643842756976525\n"
     ]
    }
   ],
   "source": [
    "# 数学の勉強時間とポルトガルの勉強時間に差があると言えるか？\n",
    "from scipy import stats\n",
    "t, p = stats.ttest_rel(data_merge.studytime_math, data_merge.studytime_por)\n",
    "\n",
    "print(p)"
   ]
  },
  {
   "cell_type": "code",
   "execution_count": 52,
   "metadata": {},
   "outputs": [
    {
     "name": "stdout",
     "output_type": "stream",
     "text": [
      "4.0622824801348043e-19\n"
     ]
    }
   ],
   "source": [
    "# 数学のG2成績とポルトガルのG2成績に差があると言えるか？\n",
    "from scipy import stats\n",
    "t, p = stats.ttest_rel(data_merge.G2_math, data_merge.G2_por)\n",
    "print(p)"
   ]
  },
  {
   "cell_type": "code",
   "execution_count": null,
   "metadata": {},
   "outputs": [],
   "source": []
  }
 ],
 "metadata": {
  "kernelspec": {
   "display_name": "Python 3",
   "language": "python",
   "name": "python3"
  },
  "language_info": {
   "codemirror_mode": {
    "name": "ipython",
    "version": 3
   },
   "file_extension": ".py",
   "mimetype": "text/x-python",
   "name": "python",
   "nbconvert_exporter": "python",
   "pygments_lexer": "ipython3",
   "version": "3.7.6"
  }
 },
 "nbformat": 4,
 "nbformat_minor": 4
}
