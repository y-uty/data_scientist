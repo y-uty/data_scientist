{
 "cells": [
  {
   "cell_type": "code",
   "execution_count": 6,
   "metadata": {},
   "outputs": [
    {
     "data": {
      "text/plain": [
       "array([0, 1, 2, 3, 4, 5, 6, 7, 8, 9])"
      ]
     },
     "execution_count": 6,
     "metadata": {},
     "output_type": "execute_result"
    }
   ],
   "source": [
    "import numpy as np\n",
    "import numpy.random as random\n",
    "import scipy as sp\n",
    "import matplotlib.pyplot as plt\n",
    "import matplotlib as mpl\n",
    "%matplotlib inline\n",
    "%precision 3\n",
    "sample = np.arange(10)"
   ]
  },
  {
   "cell_type": "code",
   "execution_count": 10,
   "metadata": {},
   "outputs": [
    {
     "name": "stdout",
     "output_type": "stream",
     "text": [
      "[0 1 2 3 4 5 6 7 8 9]\n",
      "[0 1 2 3 4]\n"
     ]
    }
   ],
   "source": [
    "#インデックス参照\n",
    "#スライス操作\n",
    "sample_slice = sample[0:5]\n",
    "print(sample)\n",
    "print(sample_slice)"
   ]
  },
  {
   "cell_type": "code",
   "execution_count": 12,
   "metadata": {},
   "outputs": [
    {
     "name": "stdout",
     "output_type": "stream",
     "text": [
      "[10 10  2  3  4  5  6  7  8  9]\n",
      "[10 10  2  3  4]\n"
     ]
    }
   ],
   "source": [
    "#参照しているため、オリジナルの配列の値も置き換わる\n",
    "sample_slice[0:2] = 10\n",
    "print(sample)\n",
    "print(sample_slice)"
   ]
  },
  {
   "cell_type": "code",
   "execution_count": 13,
   "metadata": {},
   "outputs": [
    {
     "name": "stdout",
     "output_type": "stream",
     "text": [
      "[10 10  2  3  4  5  6  7  8  9]\n",
      "[20 20 20  3  4  5  6  7  8  9]\n",
      "[10 10  2  3  4  5  6  7  8  9]\n"
     ]
    }
   ],
   "source": [
    "#別の配列にコピーしておけば大丈夫\n",
    "sample_copy = np.copy(sample)\n",
    "print(sample_copy)\n",
    "sample_copy[0:3] = 20\n",
    "print(sample_copy)\n",
    "print(sample)"
   ]
  },
  {
   "cell_type": "code",
   "execution_count": 24,
   "metadata": {},
   "outputs": [
    {
     "name": "stdout",
     "output_type": "stream",
     "text": [
      "['a' 'b' 'c' 'd' 'a']\n",
      "[[ 1.764  0.4    0.979  2.241  1.868]\n",
      " [-0.977  0.95  -0.151 -0.103  0.411]\n",
      " [ 0.144  1.454  0.761  0.122  0.444]\n",
      " [ 0.334  1.494 -0.205  0.313 -0.854]\n",
      " [-2.553  0.654  0.864 -0.742  2.27 ]]\n"
     ]
    }
   ],
   "source": [
    "#ブールインデックス参照\n",
    "sample_2 = np.array(['a','b','c','d','a'])\n",
    "random.seed(0)\n",
    "data = random.randn(5, 5) # randn - 正規分布の乱数生成\n",
    "print(sample_2)\n",
    "print(data)"
   ]
  },
  {
   "cell_type": "code",
   "execution_count": 17,
   "metadata": {},
   "outputs": [
    {
     "data": {
      "text/plain": [
       "array([ True, False, False, False,  True])"
      ]
     },
     "execution_count": 17,
     "metadata": {},
     "output_type": "execute_result"
    }
   ],
   "source": [
    "#配列の要素値を論理演算子でT/F判定\n",
    "sample_2 == 'a'"
   ]
  },
  {
   "cell_type": "code",
   "execution_count": 25,
   "metadata": {},
   "outputs": [
    {
     "name": "stdout",
     "output_type": "stream",
     "text": [
      "[[ 1.764  0.4    0.979  2.241  1.868]\n",
      " [-2.553  0.654  0.864 -0.742  2.27 ]]\n"
     ]
    }
   ],
   "source": [
    "#判定結果がTrueとなる要素のインデックスが返されるので、それを別の配列から値を取り出すためのインデックスに指定\n",
    "data_2 = data[sample_2 == 'a'] #デフォルトは行インデックス\n",
    "print(data_2)"
   ]
  },
  {
   "cell_type": "code",
   "execution_count": 32,
   "metadata": {},
   "outputs": [
    {
     "name": "stdout",
     "output_type": "stream",
     "text": [
      "[[ 1.764  1.868]\n",
      " [-0.977  0.411]\n",
      " [ 0.144  0.444]\n",
      " [ 0.334 -0.854]\n",
      " [-2.553  2.27 ]]\n"
     ]
    }
   ],
   "source": [
    "data_3 = data[:, sample_2 == 'a'] #列インデックスもできる\n",
    "print(data_3)"
   ]
  },
  {
   "cell_type": "code",
   "execution_count": 35,
   "metadata": {},
   "outputs": [
    {
     "name": "stdout",
     "output_type": "stream",
     "text": [
      "[  1   2 300 400   5]\n"
     ]
    }
   ],
   "source": [
    "#条件制御\n",
    "# numpy.where(array_consition(boolean), array_true, array_false)\n",
    "condition = np.array([True,True,False,False,True])\n",
    "array_t = ([1,2,3,4,5]) # Trueのときの配列\n",
    "array_f = ([100,200,300,400,500]) # Falseのときの配列\n",
    "array_judge = np.where(condition, array_t, array_f)\n",
    "print(array_judge)"
   ]
  },
  {
   "cell_type": "code",
   "execution_count": 36,
   "metadata": {},
   "outputs": [
    {
     "name": "stdout",
     "output_type": "stream",
     "text": [
      "[ True  True False False  True]\n",
      "[False  True]\n"
     ]
    }
   ],
   "source": [
    "#重複削除\n",
    "# numpy.unique(array)\n",
    "print(condition)\n",
    "print(np.unique(condition))"
   ]
  },
  {
   "cell_type": "code",
   "execution_count": 39,
   "metadata": {},
   "outputs": [
    {
     "name": "stdout",
     "output_type": "stream",
     "text": [
      "[0.    1.    1.414 1.732 2.    2.236 2.449 2.646 2.828 3.    3.162 3.317\n",
      " 3.464 3.606 3.742 3.873 4.    4.123 4.243 4.359]\n",
      "[1.000e+00 2.718e+00 7.389e+00 2.009e+01 5.460e+01 1.484e+02 4.034e+02\n",
      " 1.097e+03 2.981e+03 8.103e+03 2.203e+04 5.987e+04 1.628e+05 4.424e+05\n",
      " 1.203e+06 3.269e+06 8.886e+06 2.415e+07 6.566e+07 1.785e+08]\n"
     ]
    }
   ],
   "source": [
    "#ユニバーサル関数　すべての要素に適用\n",
    "sample_3 = np.arange(20)\n",
    "print(np.sqrt(sample_3))\n",
    "print(np.exp(sample_3))"
   ]
  },
  {
   "cell_type": "code",
   "execution_count": 43,
   "metadata": {},
   "outputs": [
    {
     "name": "stdout",
     "output_type": "stream",
     "text": [
      "[[0 1 2]\n",
      " [3 4 5]\n",
      " [6 7 8]]\n",
      "8\n",
      "0\n",
      "4.0\n",
      "36\n",
      "[6 7 8]\n",
      "[0 3 6]\n",
      "[ 9 12 15]\n",
      "[ 3 12 21]\n"
     ]
    }
   ],
   "source": [
    "#配列の最大、最小、平均、合計\n",
    "sample_4 = np.arange(9).reshape(3,3)\n",
    "print(sample_4)\n",
    "print(sample_4.max())\n",
    "print(sample_4.min())\n",
    "print(sample_4.mean())\n",
    "print(sample_4.sum())\n",
    "print(sample_4.max(axis=0))\n",
    "print(sample_4.min(axis=1))\n",
    "print(sample_4.sum(axis=0))\n",
    "print(sample_4.sum(axis=1))"
   ]
  },
  {
   "cell_type": "code",
   "execution_count": 48,
   "metadata": {},
   "outputs": [
    {
     "name": "stdout",
     "output_type": "stream",
     "text": [
      "True\n",
      "False\n",
      "3\n"
     ]
    }
   ],
   "source": [
    "#配列の要素の真偽値判定　any - いずれか1つ, all - すべて\n",
    "print(condition.any())\n",
    "print(condition.all())\n",
    "#条件を指定してからsum.()で合致する要素の個数がわかる\n",
    "print((sample_4 > 5).sum())"
   ]
  },
  {
   "cell_type": "code",
   "execution_count": 50,
   "metadata": {},
   "outputs": [
    {
     "name": "stdout",
     "output_type": "stream",
     "text": [
      "[0 4 8]\n",
      "12\n"
     ]
    }
   ],
   "source": [
    "#対角成分の計算 diag, trace\n",
    "print(np.diag(sample_4)) #対角成分の抽出\n",
    "print(np.trace(sample_4)) #対角成分の和"
   ]
  },
  {
   "cell_type": "code",
   "execution_count": 70,
   "metadata": {},
   "outputs": [
    {
     "name": "stdout",
     "output_type": "stream",
     "text": [
      "[[1 2 3]\n",
      " [4 5 6]]\n",
      "[[ 7  8  9]\n",
      " [10 11 12]]\n",
      "[[ 1  2  3]\n",
      " [ 4  5  6]\n",
      " [ 7  8  9]\n",
      " [10 11 12]]\n",
      "[[ 1  2  3  7  8  9]\n",
      " [ 4  5  6 10 11 12]]\n",
      "[[ 1  2  3]\n",
      " [ 4  5  6]\n",
      " [ 7  8  9]\n",
      " [10 11 12]]\n",
      "[[ 1  2  3  7  8  9]\n",
      " [ 4  5  6 10 11 12]]\n"
     ]
    }
   ],
   "source": [
    "#配列の結合 concatenate, vstack, hstack\n",
    "sample_5 = np.arange(1,7).reshape(2,3)\n",
    "sample_6 = np.arange(7,13).reshape(2,3)\n",
    "print(sample_5)\n",
    "print(sample_6)\n",
    "#行方向に結合 concatenate(array1, array2, axis=0)\n",
    "row_concat = np.concatenate([sample_5, sample_6], axis=0)\n",
    "print(row_concat)\n",
    "#列方向に結合 concatenate(array1, array2, axis=1)\n",
    "col_concat = np.concatenate([sample_5, sample_6], axis=1)\n",
    "print(col_concat)\n",
    "#行方向に結合 vstack(array1, array2)\n",
    "row_stack = np.vstack((sample_5, sample_6))\n",
    "print(row_stack)\n",
    "#列方向に結合 hstack(array1, array2)\n",
    "col_stack = np.hstack((sample_5, sample_6))\n",
    "print(col_stack)"
   ]
  },
  {
   "cell_type": "code",
   "execution_count": 92,
   "metadata": {},
   "outputs": [
    {
     "name": "stdout",
     "output_type": "stream",
     "text": [
      "[[ 0  1  2  3  4]\n",
      " [ 5  6  7  8  9]\n",
      " [10 11 12 13 14]\n",
      " [15 16 17 18 19]\n",
      " [20 21 22 23 24]\n",
      " [25 26 27 28 29]\n",
      " [30 31 32 33 34]\n",
      " [35 36 37 38 39]]\n",
      "a1=\n",
      " [[0 1 2 3 4]\n",
      " [5 6 7 8 9]] \n",
      "\n",
      "a2=\n",
      " [[10 11 12 13 14]\n",
      " [15 16 17 18 19]] \n",
      "\n",
      "a3=\n",
      " [[20 21 22 23 24]] \n",
      "\n",
      "a4=\n",
      " [[25 26 27 28 29]\n",
      " [30 31 32 33 34]\n",
      " [35 36 37 38 39]] \n",
      "\n",
      "b1=\n",
      " [[ 0]\n",
      " [ 5]\n",
      " [10]\n",
      " [15]\n",
      " [20]\n",
      " [25]\n",
      " [30]\n",
      " [35]] \n",
      "\n",
      "b2=\n",
      " [[ 1  2]\n",
      " [ 6  7]\n",
      " [11 12]\n",
      " [16 17]\n",
      " [21 22]\n",
      " [26 27]\n",
      " [31 32]\n",
      " [36 37]] \n",
      "\n",
      "b3=\n",
      " [[ 3  4]\n",
      " [ 8  9]\n",
      " [13 14]\n",
      " [18 19]\n",
      " [23 24]\n",
      " [28 29]\n",
      " [33 34]\n",
      " [38 39]] \n",
      "\n"
     ]
    }
   ],
   "source": [
    "#配列の分割 split\n",
    "sample_7 = np.arange(0,40).reshape(8,5)\n",
    "print(sample_7)\n",
    "#2より手前まで(0-1), 2から4の手前まで(2-3), 4から5の手前まで(4), 5以降(5-7) \n",
    "a1, a2, a3, a4 = np.split(sample_7, [2,4,5]) #デフォルトは行方向に分割\n",
    "print('a1=\\n', a1, '\\n')\n",
    "print('a2=\\n', a2, '\\n')\n",
    "print('a3=\\n', a3, '\\n')\n",
    "print('a4=\\n', a4, '\\n')\n",
    "#1より手前まで(0), 1から3の手前まで(1-2), 3以降(3-4) \n",
    "b1, b2, b3 = np.split(sample_7, [1,3], axis=1) #列方向に分割\n",
    "print('b1=\\n', b1, '\\n')\n",
    "print('b2=\\n', b2, '\\n')\n",
    "print('b3=\\n', b3, '\\n')"
   ]
  },
  {
   "cell_type": "code",
   "execution_count": 95,
   "metadata": {},
   "outputs": [
    {
     "name": "stdout",
     "output_type": "stream",
     "text": [
      "[1 2 3]\n"
     ]
    },
    {
     "data": {
      "text/plain": [
       "array([1, 1, 1, 1, 1, 2, 2, 2, 2, 2, 3, 3, 3, 3, 3])"
      ]
     },
     "execution_count": 95,
     "metadata": {},
     "output_type": "execute_result"
    }
   ],
   "source": [
    "#繰り返し処理\n",
    "sample_8 = np.arange(1,4)\n",
    "print(sample_8)\n",
    "sample_8.repeat(5)"
   ]
  },
  {
   "cell_type": "code",
   "execution_count": 110,
   "metadata": {},
   "outputs": [
    {
     "name": "stdout",
     "output_type": "stream",
     "text": [
      "[1 2 3 4 5 6 7 8 9]\n",
      "[10 20 30 40 50 60 70 80 90]\n",
      "[[101 102 103 104 105 106]\n",
      " [107 108 109 110 111 112]\n",
      " [113 114 115 116 117 118]\n",
      " [119 120 121 122 123 124]\n",
      " [125 126 127 128 129 130]\n",
      " [131 132 133 134 135 136]]\n",
      "[[1.    1.414 1.732 2.    2.236 2.449]\n",
      " [2.646 2.828 3.    3.162 3.317 3.464]\n",
      " [3.606 3.742 3.873 4.    4.123 4.243]\n",
      " [4.359 4.472 4.583 4.69  4.796 4.899]\n",
      " [5.    5.099 5.196 5.292 5.385 5.477]\n",
      " [5.568 5.657 5.745 5.831 5.916 6.   ]]\n"
     ]
    }
   ],
   "source": [
    "#ブロードキャスト 配列の大きさが異なる場合に自動的に要素をコピーして対象の大きさを揃える\n",
    "sample_9 = np.arange(1,10)\n",
    "print(sample_9)\n",
    "#スカラー値を1次元配列に展開\n",
    "sample_9 * 10\n",
    "print(sample_9 * 10)\n",
    "#多次元配列でも同様\n",
    "sample_A = np.arange(1,37).reshape(6,6)\n",
    "print(sample_A + 100)\n",
    "print(sample_A ** (1/2))"
   ]
  }
 ],
 "metadata": {
  "kernelspec": {
   "display_name": "Python 3",
   "language": "python",
   "name": "python3"
  },
  "language_info": {
   "codemirror_mode": {
    "name": "ipython",
    "version": 3
   },
   "file_extension": ".py",
   "mimetype": "text/x-python",
   "name": "python",
   "nbconvert_exporter": "python",
   "pygments_lexer": "ipython3",
   "version": "3.7.6"
  }
 },
 "nbformat": 4,
 "nbformat_minor": 4
}
